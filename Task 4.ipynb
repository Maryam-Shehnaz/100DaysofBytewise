{
 "cells": [
  {
   "cell_type": "markdown",
   "id": "1ce297c4-0f94-44a2-965b-db566bd95f72",
   "metadata": {},
   "source": [
    "1. QuickSort Algorithm"
   ]
  },
  {
   "cell_type": "code",
   "execution_count": 1,
   "id": "581ec98c-2cdf-49c3-a073-350f708d7ec3",
   "metadata": {},
   "outputs": [
    {
     "name": "stdout",
     "output_type": "stream",
     "text": [
      "Unsorted Array\n",
      "[8, 7, 2, 1, 0, 9, 6]\n",
      "Sorted Array in Ascending Order:\n",
      "[0, 1, 2, 6, 7, 8, 9]\n"
     ]
    }
   ],
   "source": [
    "def partition(array, low, high):\n",
    "\n",
    "  pivot = array[high]\n",
    "  i = low - 1\n",
    "\n",
    "  for j in range(low, high):\n",
    "    if array[j] <= pivot:\n",
    "      i = i + 1\n",
    "\n",
    "      (array[i], array[j]) = (array[j], array[i])\n",
    "\n",
    "  (array[i + 1], array[high]) = (array[high], array[i + 1])\n",
    "\n",
    "  return i + 1\n",
    "\n",
    "def quickSort(array, low, high):\n",
    "  if low < high:\n",
    "\n",
    "    pi = partition(array, low, high)\n",
    "\n",
    "    quickSort(array, low, pi - 1)\n",
    "\n",
    "    quickSort(array, pi + 1, high)\n",
    "\n",
    "data = [8, 7, 2, 1, 0, 9, 6]\n",
    "print(\"Unsorted Array\")\n",
    "print(data)\n",
    "\n",
    "size = len(data)\n",
    "\n",
    "quickSort(data, 0, size - 1)\n",
    "\n",
    "print('Sorted Array in Ascending Order:')\n",
    "print(data)"
   ]
  },
  {
   "cell_type": "markdown",
   "id": "85cd4dbe-3e2f-40db-812a-53fb03a49b59",
   "metadata": {},
   "source": [
    "2. Knapsack Problem"
   ]
  },
  {
   "cell_type": "code",
   "execution_count": 16,
   "id": "d0d4aff6-872f-45a7-a9e9-35c4ee4a91a9",
   "metadata": {},
   "outputs": [
    {
     "name": "stdout",
     "output_type": "stream",
     "text": [
      "220\n"
     ]
    }
   ],
   "source": [
    "def knapSack(W, wt, val, n):\n",
    "    # Base Case\n",
    "    if n == 0 or W == 0:\n",
    "        return 0\n",
    "\n",
    "    if wt[n-1] > W:\n",
    "        return knapSack(W, wt, val, n-1)\n",
    "\n",
    "    else:\n",
    "        return max(\n",
    "            val[n-1] + knapSack(W-wt[n-1], wt, val, n-1),\n",
    "            knapSack(W, wt, val, n-1)\n",
    "        )\n",
    "\n",
    "# Example Code\n",
    "if __name__ == '__main__':\n",
    "    profit = [60, 100, 120]\n",
    "    weight = [10, 20, 30]\n",
    "    W = 50\n",
    "    n = len(profit)\n",
    "    print(knapSack(W, weight, profit, n))"
   ]
  },
  {
   "cell_type": "markdown",
   "id": "8ea3ab28-061f-4273-8b62-55688fa2d3f6",
   "metadata": {},
   "source": [
    "3. Graph Traversal (BFS and DFS)"
   ]
  },
  {
   "cell_type": "code",
   "execution_count": 5,
   "id": "2848be8e-a01f-44f6-b9d6-a8ed6de0e002",
   "metadata": {},
   "outputs": [
    {
     "name": "stdout",
     "output_type": "stream",
     "text": [
      "BFS Traversal: [2, 0, 3, 1]\n",
      "DFS Traversal: [2, 3, 0, 1]\n"
     ]
    }
   ],
   "source": [
    "from collections import deque\n",
    "\n",
    "def bfs(graph, start):\n",
    "    visited = set()  \n",
    "    queue = deque([start]) \n",
    "    result = []  \n",
    "\n",
    "    while queue:\n",
    "        node = queue.popleft()\n",
    "        if node not in visited:\n",
    "            visited.add(node)\n",
    "            result.append(node)\n",
    "            # Add all unvisited neighbors to the queue\n",
    "            queue.extend(neighbor for neighbor in graph[node] if neighbor not in visited)\n",
    "    \n",
    "    return result\n",
    "\n",
    "def dfs(graph, start):\n",
    "    visited = set()  \n",
    "    stack = [start]  \n",
    "    result = []  \n",
    "\n",
    "    while stack:\n",
    "        node = stack.pop()\n",
    "        if node not in visited:\n",
    "            visited.add(node)\n",
    "            result.append(node)\n",
    "            stack.extend(neighbor for neighbor in graph[node] if neighbor not in visited)\n",
    "    \n",
    "    return result\n",
    "\n",
    "# Example usage\n",
    "graph = {0: [1, 2], 1: [2], 2: [0, 3], 3: [3]}\n",
    "start_node = 2\n",
    "\n",
    "print(\"BFS Traversal:\", bfs(graph, start_node))\n",
    "print(\"DFS Traversal:\", dfs(graph, start_node))"
   ]
  },
  {
   "cell_type": "markdown",
   "id": "11bb9cad-c782-4733-ba98-9978b5807e0b",
   "metadata": {},
   "source": [
    "4. Dijkstra's Algorithm"
   ]
  },
  {
   "cell_type": "code",
   "execution_count": 4,
   "id": "568de727-df0d-4ddd-b450-9c23679b40a2",
   "metadata": {},
   "outputs": [
    {
     "name": "stdout",
     "output_type": "stream",
     "text": [
      "Shortest paths: {'A': 0, 'B': 1, 'C': 3, 'D': 4}\n"
     ]
    }
   ],
   "source": [
    "import heapq\n",
    "\n",
    "def dijkstra(graph, start):\n",
    "\n",
    "    distances = {node: float('infinity') for node in graph}\n",
    "    distances[start] = 0\n",
    "    \n",
    "    priority_queue = [(0, start)]\n",
    "    \n",
    "    while priority_queue:\n",
    "       \n",
    "        current_distance, current_node = heapq.heappop(priority_queue)\n",
    "        \n",
    "        if current_distance > distances[current_node]:\n",
    "            continue\n",
    "        \n",
    "        for neighbor, weight in graph[current_node].items():\n",
    "            distance = current_distance + weight\n",
    "            \n",
    "            if distance < distances[neighbor]:\n",
    "                distances[neighbor] = distance\n",
    "                heapq.heappush(priority_queue, (distance, neighbor))\n",
    "    \n",
    "    return distances\n",
    "\n",
    "# Example usage\n",
    "graph = {\n",
    "    'A': {'B': 1, 'C': 4},\n",
    "    'B': {'C': 2, 'D': 5},\n",
    "    'C': {'D': 1},\n",
    "    'D': {}\n",
    "}\n",
    "start_node = 'A'\n",
    "shortest_paths = dijkstra(graph, start_node)\n",
    "print(\"Shortest paths:\", shortest_paths)"
   ]
  },
  {
   "cell_type": "markdown",
   "id": "277b210a-e393-44b4-8261-891cf22e4e26",
   "metadata": {},
   "source": [
    "5. Longest Common Subsequence (LCS)"
   ]
  },
  {
   "cell_type": "code",
   "execution_count": 1,
   "id": "ecf66686-f5e8-44d2-b40b-591b9e5006b1",
   "metadata": {},
   "outputs": [
    {
     "name": "stdout",
     "output_type": "stream",
     "text": [
      "Longest Common Subsequence: GTAB\n"
     ]
    }
   ],
   "source": [
    "def lcs(X, Y):\n",
    "    m = len(X)\n",
    "    n = len(Y)\n",
    "\n",
    "    L = [[None]*(n+1) for i in range(m+1)]\n",
    "\n",
    "    for i in range(m+1):\n",
    "        for j in range(n+1):\n",
    "            if i == 0 or j == 0:\n",
    "                L[i][j] = 0\n",
    "            elif X[i-1] == Y[j-1]: #if match\n",
    "                L[i][j] = L[i-1][j-1] + 1\n",
    "            else:\n",
    "                L[i][j] = max(L[i-1][j], L[i][j-1]) # if not match\n",
    "\n",
    "    index = L[m][n]\n",
    "\n",
    "    lcs = [\"\"] * (index+1)\n",
    "    lcs[index] = \"\"\n",
    "\n",
    "    i = m\n",
    "    j = n\n",
    "    while i > 0 and j > 0:\n",
    "\n",
    "        if X[i-1] == Y[j-1]:\n",
    "            lcs[index-1] = X[i-1]\n",
    "            i -= 1\n",
    "            j -= 1\n",
    "            index -= 1\n",
    "\n",
    "        elif L[i-1][j] > L[i][j-1]:\n",
    "            i -= 1\n",
    "        else:\n",
    "            j -= 1\n",
    "\n",
    "    return \"\".join(lcs)\n",
    "\n",
    "# Example usage\n",
    "X = \"AGGTAB\"\n",
    "Y = \"GXTXAYB\"\n",
    "print(\"Longest Common Subsequence:\", lcs(X, Y))"
   ]
  },
  {
   "cell_type": "code",
   "execution_count": null,
   "id": "561e42f0-c46f-4dbc-badb-51b9a18af99b",
   "metadata": {},
   "outputs": [],
   "source": []
  }
 ],
 "metadata": {
  "kernelspec": {
   "display_name": "Python 3 (ipykernel)",
   "language": "python",
   "name": "python3"
  },
  "language_info": {
   "codemirror_mode": {
    "name": "ipython",
    "version": 3
   },
   "file_extension": ".py",
   "mimetype": "text/x-python",
   "name": "python",
   "nbconvert_exporter": "python",
   "pygments_lexer": "ipython3",
   "version": "3.11.7"
  }
 },
 "nbformat": 4,
 "nbformat_minor": 5
}
