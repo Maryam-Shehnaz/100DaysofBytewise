{
 "cells": [
  {
   "cell_type": "markdown",
   "id": "365eb737-ef97-48cf-bc68-050962e7ec29",
   "metadata": {},
   "source": [
    "Exercise: Sum of Two Numbers"
   ]
  },
  {
   "cell_type": "code",
   "execution_count": 6,
   "id": "fb26b4d1-c90b-4492-83d2-1297102f98b4",
   "metadata": {},
   "outputs": [
    {
     "name": "stdin",
     "output_type": "stream",
     "text": [
      "Enter first number: 4\n",
      "Enter second number: 5\n"
     ]
    },
    {
     "name": "stdout",
     "output_type": "stream",
     "text": [
      "Sum of numbers is:9.0\n"
     ]
    }
   ],
   "source": [
    "num1= float(input(\"Enter first number:\"))\n",
    "num2= float(input(\"Enter second number:\"))\n",
    "sum = num1+num2\n",
    "#print the sum\n",
    "print(f\"Sum of numbers is:{sum}\")"
   ]
  },
  {
   "cell_type": "markdown",
   "id": "242b7cee-a3a4-4b8d-8493-03e3ade9141c",
   "metadata": {},
   "source": [
    "Exercise : Area of a Circle"
   ]
  },
  {
   "cell_type": "code",
   "execution_count": 7,
   "id": "cfb44a16-6a65-4a68-af2a-768f7c26d903",
   "metadata": {},
   "outputs": [
    {
     "name": "stdin",
     "output_type": "stream",
     "text": [
      "enter the radius of circle: 2\n"
     ]
    },
    {
     "name": "stdout",
     "output_type": "stream",
     "text": [
      "The area of the circle is:12.566370614359172\n"
     ]
    }
   ],
   "source": [
    "import math\n",
    "radius = float(input(\"Enter the radius of the circle:\"))\n",
    "area= math.pi*(radius**2)\n",
    "print(f\"The area of the circle is:{area}\")"
   ]
  },
  {
   "cell_type": "markdown",
   "id": "52d012e7-85ed-4a6a-857f-424d18dce344",
   "metadata": {},
   "source": [
    "Exercise: Even or Odd"
   ]
  },
  {
   "cell_type": "code",
   "execution_count": 11,
   "id": "61b3a7aa-fc06-4774-9ec0-614169592126",
   "metadata": {},
   "outputs": [
    {
     "name": "stdin",
     "output_type": "stream",
     "text": [
      "Enter a number: 7\n"
     ]
    },
    {
     "name": "stdout",
     "output_type": "stream",
     "text": [
      "7 is odd\n"
     ]
    }
   ],
   "source": [
    "num = int(input(\"Enter a number:\"))\n",
    "if num%2==0:\n",
    "    print(f\"{num} is even\")\n",
    "else:\n",
    "    print(f\"{num} is odd\")"
   ]
  },
  {
   "cell_type": "markdown",
   "id": "7699605a-7ded-45a3-b669-aca7bf199007",
   "metadata": {},
   "source": [
    "Exercise: Simple Calculator"
   ]
  },
  {
   "cell_type": "code",
   "execution_count": 18,
   "id": "fb229f1d-7813-4de0-a62f-5332056bc269",
   "metadata": {},
   "outputs": [
    {
     "name": "stdin",
     "output_type": "stream",
     "text": [
      "Enter first number:  10\n",
      "Enter second number:  5\n",
      "Enter operation (+, -, *, /):  /\n"
     ]
    },
    {
     "name": "stdout",
     "output_type": "stream",
     "text": [
      "The result is: 2.0\n"
     ]
    }
   ],
   "source": [
    "# Take input from the user\n",
    "num1 = float(input(\"Enter first number: \"))\n",
    "num2 = float(input(\"Enter second number: \"))\n",
    "\n",
    "# Take operation input from the user\n",
    "operation = input(\"Enter operation (+, -, *, /): \")\n",
    "\n",
    "# Perform the requested operation\n",
    "result = 0\n",
    "if operation == '+':\n",
    "    result = num1 + num2\n",
    "elif operation == '-':\n",
    "    result = num1 - num2\n",
    "elif operation == '*':\n",
    "    result = num1 * num2\n",
    "elif operation == '/':\n",
    "    if num2 != 0:\n",
    "        result = num1 / num2\n",
    "    else:\n",
    "        print(\"Error! Division by zero is not allowed.\")\n",
    "else:\n",
    "    print(\"Invalid operation. Please enter a valid operation symbol.\")\n",
    "\n",
    "# Print the result\n",
    "print(f\"The result is: {result}\")"
   ]
  },
  {
   "cell_type": "markdown",
   "id": "b6199629-2037-46e3-ac3d-d4c7b4b1af2e",
   "metadata": {},
   "source": [
    "Exercise: Find the Largest Number"
   ]
  },
  {
   "cell_type": "code",
   "execution_count": 22,
   "id": "0e81273b-eb84-48e0-9a74-3ec5811ddcea",
   "metadata": {},
   "outputs": [
    {
     "name": "stdin",
     "output_type": "stream",
     "text": [
      "Enter first number:  2\n",
      "Enter second number:  5\n",
      "Enter third number:  9\n"
     ]
    },
    {
     "name": "stdout",
     "output_type": "stream",
     "text": [
      "The largest number is:9.0\n"
     ]
    }
   ],
   "source": [
    "num1 = float(input(\"Enter first number: \"))\n",
    "num2 = float(input(\"Enter second number: \"))\n",
    "num3 = float(input(\"Enter third number: \"))\n",
    "largest = num1\n",
    "\n",
    "if num2>largest:\n",
    "    largest=num2\n",
    "\n",
    "if num3>largest:\n",
    "    largest=num3\n",
    "print(f\"The largest number is:{largest}\")"
   ]
  },
  {
   "cell_type": "markdown",
   "id": "0ad6ae05-4270-46dd-a8b7-a02471bbd390",
   "metadata": {},
   "source": [
    "Exercise: Reverse a String"
   ]
  },
  {
   "cell_type": "code",
   "execution_count": 2,
   "id": "6fee46f4-f574-491f-9e56-3c50173dbd80",
   "metadata": {},
   "outputs": [
    {
     "name": "stdin",
     "output_type": "stream",
     "text": [
      "Enter a string:  maryam\n"
     ]
    },
    {
     "name": "stdout",
     "output_type": "stream",
     "text": [
      "The reversed string is: mayram\n"
     ]
    }
   ],
   "source": [
    "# Take input from the user\n",
    "user_string = input(\"Enter a string: \")\n",
    "\n",
    "# Reverse the string\n",
    "rev_string = user_string[::-1]\n",
    "\n",
    "# Print \n",
    "print(f\"The reversed string is: {rev_string}\")"
   ]
  },
  {
   "cell_type": "markdown",
   "id": "13ca44a4-cc33-434d-893b-c7169294622c",
   "metadata": {},
   "source": [
    "Exercise: Count Vowels"
   ]
  },
  {
   "cell_type": "code",
   "execution_count": 7,
   "id": "9726e723-0dbc-4711-818c-d249c02ee2e4",
   "metadata": {},
   "outputs": [
    {
     "name": "stdin",
     "output_type": "stream",
     "text": [
      "Enter a string:  orange\n"
     ]
    },
    {
     "name": "stdout",
     "output_type": "stream",
     "text": [
      "The number of vowels in the string is: 3\n"
     ]
    }
   ],
   "source": [
    "def count_vowels(s):\n",
    "    vowels = 'aeiouAEIOU'\n",
    "    count = 0\n",
    "    for char in s:\n",
    "        if char in vowels:\n",
    "            count += 1\n",
    "    return count\n",
    "\n",
    "# Take input from the user\n",
    "user_string = input(\"Enter a string: \")\n",
    "\n",
    "# Count the vowels\n",
    "vowel_count = count_vowels(user_string)\n",
    "\n",
    "# Print the result\n",
    "print(f\"The number of vowels in the string is: {vowel_count}\")\n"
   ]
  },
  {
   "cell_type": "markdown",
   "id": "0884f556-020a-4c60-b6f6-ab2d813c2fe4",
   "metadata": {},
   "source": [
    "Exercise : Fibonacci Sequence"
   ]
  },
  {
   "cell_type": "code",
   "execution_count": 4,
   "id": "e17a61fd-3e04-4e46-b50a-6fe09907cd88",
   "metadata": {},
   "outputs": [
    {
     "name": "stdin",
     "output_type": "stream",
     "text": [
      "Enter the number of terms:  5\n"
     ]
    },
    {
     "name": "stdout",
     "output_type": "stream",
     "text": [
      "The Fibonacci sequence up to 5 terms is: [0, 1, 1, 2, 3]\n"
     ]
    }
   ],
   "source": [
    "def fibonacci_sequence(n):\n",
    "    sequence = []\n",
    "    a, b = 0, 1\n",
    "    for _ in range(n):\n",
    "        sequence.append(a)\n",
    "        a, b = b, a + b\n",
    "    return sequence\n",
    "\n",
    "# Take input from the user\n",
    "n = int(input(\"Enter the number of terms: \"))\n",
    "\n",
    "# Fibonacci sequence\n",
    "fib_sequence = fibonacci_sequence(n)\n",
    "\n",
    "# Print the result\n",
    "print(f\"The Fibonacci sequence up to {n} terms is: {fib_sequence}\")"
   ]
  },
  {
   "cell_type": "markdown",
   "id": "57d3aece-3f91-4368-881e-1dfe39421e1b",
   "metadata": {},
   "source": [
    "Exercise: Check for Palindrome"
   ]
  },
  {
   "cell_type": "code",
   "execution_count": 12,
   "id": "2078b903-9382-435f-9f29-37861321946f",
   "metadata": {},
   "outputs": [
    {
     "name": "stdin",
     "output_type": "stream",
     "text": [
      "Enter a string:  racecar\n"
     ]
    },
    {
     "name": "stdout",
     "output_type": "stream",
     "text": [
      "The string 'racecar' is a palindrome.\n"
     ]
    }
   ],
   "source": [
    "def is_palindrome(s):\n",
    "    # Remove spaces and convert to lowercase\n",
    "    s = s.replace(\" \", \"\").lower()\n",
    "    # Compare the string\n",
    "    return s == s[::-1]\n",
    "\n",
    "# Take input from the user\n",
    "user_string = input(\"Enter a string: \")\n",
    "\n",
    "# Check if string is a palindrome\n",
    "if is_palindrome(user_string):\n",
    "    print(f\"The string '{user_string}' is a palindrome.\")\n",
    "else:\n",
    "    print(f\"The string '{user_string}' is not a palindrome.\")\n"
   ]
  },
  {
   "cell_type": "code",
   "execution_count": null,
   "id": "ee7570c2-8ec8-4e22-ac12-85141d920416",
   "metadata": {},
   "outputs": [],
   "source": []
  }
 ],
 "metadata": {
  "kernelspec": {
   "display_name": "Python 3 (ipykernel)",
   "language": "python",
   "name": "python3"
  },
  "language_info": {
   "codemirror_mode": {
    "name": "ipython",
    "version": 3
   },
   "file_extension": ".py",
   "mimetype": "text/x-python",
   "name": "python",
   "nbconvert_exporter": "python",
   "pygments_lexer": "ipython3",
   "version": "3.11.7"
  }
 },
 "nbformat": 4,
 "nbformat_minor": 5
}
