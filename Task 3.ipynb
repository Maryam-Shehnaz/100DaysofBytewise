{
 "cells": [
  {
   "cell_type": "markdown",
   "id": "ca37abd4-0457-4329-b653-6c59d0151edd",
   "metadata": {},
   "source": [
    "1. Recursive Factorial"
   ]
  },
  {
   "cell_type": "code",
   "execution_count": 1,
   "id": "f0fbbef2-b444-4e4a-8798-4902f73f35cb",
   "metadata": {},
   "outputs": [
    {
     "name": "stdin",
     "output_type": "stream",
     "text": [
      "Enter a number to find its factorial:  4\n"
     ]
    },
    {
     "name": "stdout",
     "output_type": "stream",
     "text": [
      "The factorial of 4 is 24.\n"
     ]
    }
   ],
   "source": [
    "def factorial(n):\n",
    "    if n == 0:\n",
    "        return 1\n",
    "    else:\n",
    "        return n * factorial(n - 1)\n",
    "\n",
    "# Take input \n",
    "number = int(input(\"Enter a number to find its factorial: \"))\n",
    "\n",
    "# Calculate factorial \n",
    "result = factorial(number)\n",
    "\n",
    "print(f\"The factorial of {number} is {result}.\")"
   ]
  },
  {
   "cell_type": "markdown",
   "id": "fc3ff361-5561-4e54-ab8c-cff26262be3c",
   "metadata": {},
   "source": [
    "2. Palindrome Linked List"
   ]
  },
  {
   "cell_type": "code",
   "execution_count": 2,
   "id": "ee6f18cb-865a-47f3-a93e-361ba75f597a",
   "metadata": {},
   "outputs": [
    {
     "name": "stdout",
     "output_type": "stream",
     "text": [
      "The linked list is not a palindrome.\n"
     ]
    }
   ],
   "source": [
    "class ListNode:\n",
    "    def __init__(self, val=0, next=None):\n",
    "        self.val = val\n",
    "        self.next = next\n",
    "        \n",
    "def is_palindrome(head):\n",
    "    values = []\n",
    "    current = head\n",
    "    while current:\n",
    "        values.append(current.val)\n",
    "        current = current.next\n",
    "    return values == values[::-1]\n",
    "\n",
    "\n",
    "# Example usage:\n",
    "# Create a linked list: 1 -> 2 -> 3 -> 2 -> 1\n",
    "head = ListNode(1, ListNode(2, ListNode(3, ListNode(2, ListNode(1)))))\n",
    "\n",
    "if is_palindrome(head):\n",
    "    print(\"The linked list is a palindrome.\")  \n",
    "    \n",
    "else:\n",
    "    print(\"The linked list is not a palindrome.\")"
   ]
  },
  {
   "cell_type": "markdown",
   "id": "047866bd-1382-43aa-82c5-0c28e54fd7ca",
   "metadata": {},
   "source": [
    "3. Merge Sorted Arrays"
   ]
  },
  {
   "cell_type": "code",
   "execution_count": 9,
   "id": "f31c4ca8-808e-4e26-8f36-b17055104c2d",
   "metadata": {},
   "outputs": [
    {
     "name": "stdout",
     "output_type": "stream",
     "text": [
      "Merged sorted array is: [1, 2, 3, 4, 5, 6]\n"
     ]
    }
   ],
   "source": [
    "def merge_sorted_arrays(arr1, arr2):\n",
    "    return sorted(arr1 + arr2)\n",
    "\n",
    "arr1 = [2, 3, 5]\n",
    "arr2 = [1, 4, 6]\n",
    "print(f\"Merged sorted array is: {merge_sorted_arrays(arr1, arr2)}\")"
   ]
  },
  {
   "cell_type": "markdown",
   "id": "6fa5d99f-cdd3-40ba-9286-8d5eb159c73c",
   "metadata": {},
   "source": [
    "4. Binary Search Tree"
   ]
  },
  {
   "cell_type": "code",
   "execution_count": 21,
   "id": "f9dc6723-ac62-47b3-a96c-1a38be28a870",
   "metadata": {},
   "outputs": [
    {
     "name": "stdout",
     "output_type": "stream",
     "text": [
      "Building tree with these elements: [1, 2, 3, 4, 5, 6, 3, 7, 2]\n",
      "In order traversal gives this sorted list: [1, 2, 3, 4, 5, 6, 7]\n",
      "In order traversal after inserting 7: [1, 2, 3, 4, 5, 6, 7]\n",
      "In order traversal after inserting 0: [0, 1, 2, 3, 4, 5, 6, 7]\n",
      "15  is in the list?  False\n",
      "3  is in the list?  True\n",
      "Minimum value in the tree: 0\n",
      "Maximum value in the tree: 7\n",
      "In order traversal after deleting 3: [0, 1, 2, 4, 5, 6, 7]\n",
      "In order traversal after deleting 5: [0, 1, 2, 4, 6, 7]\n",
      "In order traversal after deleting 1: [0, 2, 4, 6, 7]\n"
     ]
    }
   ],
   "source": [
    "class BinarySearchTreeNode:\n",
    "    def __init__(self, data):\n",
    "        self.data = data\n",
    "        self.left = None\n",
    "        self.right = None\n",
    "\n",
    "    def add_child(self, data):\n",
    "        if data == self.data:\n",
    "            return # node already exist\n",
    "\n",
    "        if data < self.data:\n",
    "            if self.left:\n",
    "                self.left.add_child(data)\n",
    "            else:\n",
    "                self.left = BinarySearchTreeNode(data)\n",
    "        else:\n",
    "            if self.right:\n",
    "                self.right.add_child(data)\n",
    "            else:\n",
    "                self.right = BinarySearchTreeNode(data)\n",
    "\n",
    "    #searching elements in the List\n",
    "    def search(self, val):\n",
    "        if self.data == val:\n",
    "            return True\n",
    "\n",
    "        if val < self.data:\n",
    "            if self.left:\n",
    "                return self.left.search(val)\n",
    "            else:\n",
    "                return False\n",
    "\n",
    "        if val > self.data:\n",
    "            if self.right:\n",
    "                return self.right.search(val)\n",
    "            else:\n",
    "                return False\n",
    "            \n",
    "    def find_min(self):\n",
    "        if self.left:\n",
    "            return self.left.find_min()\n",
    "        return self.data\n",
    "\n",
    "    def find_max(self):\n",
    "        if self.right:\n",
    "            return self.right.find_max()\n",
    "        return self.data\n",
    "\n",
    "    def delete(self, val):\n",
    "        if val < self.data:\n",
    "            if self.left:\n",
    "                self.left = self.left.delete(val)\n",
    "        elif val > self.data:\n",
    "            if self.right:\n",
    "                self.right = self.right.delete(val)\n",
    "        else:\n",
    "            if not self.left and not self.right:\n",
    "                return None\n",
    "            if not self.left:\n",
    "                return self.right\n",
    "            if not self.right:\n",
    "                return self.left\n",
    "\n",
    "            min_val = self.right.find_min()\n",
    "            self.data = min_val\n",
    "            self.right = self.right.delete(min_val)\n",
    "\n",
    "        return self\n",
    "\n",
    "    def in_order_traversal(self):\n",
    "        elements = []\n",
    "        if self.left:\n",
    "            elements += self.left.in_order_traversal()\n",
    "\n",
    "        elements.append(self.data)\n",
    "\n",
    "        if self.right:\n",
    "            elements += self.right.in_order_traversal()\n",
    "\n",
    "        return elements\n",
    "\n",
    "\n",
    "def build_tree(elements):\n",
    "    print(\"Building tree with these elements:\",elements)\n",
    "    root = BinarySearchTreeNode(elements[0])\n",
    "\n",
    "    for i in range(1,len(elements)):\n",
    "        root.add_child(elements[i])\n",
    "\n",
    "    return root\n",
    "\n",
    "if __name__ == '__main__':\n",
    "    numbers = [1,2,3,4,5,6,3,4,2]\n",
    "    numbers_tree = build_tree(numbers)\n",
    "    \n",
    "    print(\"In order traversal gives this sorted list:\",numbers_tree.in_order_traversal())\n",
    "    \n",
    "    # Inserting a new element\n",
    "    numbers_tree.add_child(7)\n",
    "    print(\"In order traversal after inserting 7:\", numbers_tree.in_order_traversal())\n",
    "\n",
    "    numbers_tree.add_child(0)\n",
    "    print(\"In order traversal after inserting 0:\", numbers_tree.in_order_traversal())\n",
    "    \n",
    "    #search for element 15 and 3 \n",
    "    search_for = 15\n",
    "    print(search_for,\" is in the list? \", numbers_tree.search(search_for))\n",
    "    search_for = 3\n",
    "    print(search_for,\" is in the list? \", numbers_tree.search(search_for))\n",
    "    \n",
    "    \n",
    "    # for finding minimum element in the list \n",
    "    print(\"Minimum value in the tree:\", numbers_tree.find_min())\n",
    "    # for finding maximum element in the list \n",
    "    print(\"Maximum value in the tree:\", numbers_tree.find_max())\n",
    "\n",
    "    # Deleting elements\n",
    "    numbers_tree.delete(3)\n",
    "    print(\"In order traversal after deleting 3:\", numbers_tree.in_order_traversal())\n",
    "\n",
    "    numbers_tree.delete(5)\n",
    "    print(\"In order traversal after deleting 5:\", numbers_tree.in_order_traversal())\n",
    "\n",
    "    numbers_tree.delete(1)\n",
    "    print(\"In order traversal after deleting 1:\", numbers_tree.in_order_traversal())"
   ]
  },
  {
   "cell_type": "markdown",
   "id": "645cf1d2-4964-466c-a07c-43647d5ce1ea",
   "metadata": {},
   "source": [
    "5. Longest Palindromic Substring"
   ]
  },
  {
   "cell_type": "code",
   "execution_count": 12,
   "id": "c8f2f07f-94d3-461e-a646-ea8864522e61",
   "metadata": {},
   "outputs": [
    {
     "name": "stdin",
     "output_type": "stream",
     "text": [
      "Enter a string:  babad\n"
     ]
    },
    {
     "name": "stdout",
     "output_type": "stream",
     "text": [
      "The longest palindromic substring in 'babad' is 'bab'.\n"
     ]
    }
   ],
   "source": [
    "def longest_palindromic_substring(s):\n",
    "    n = len(s)\n",
    "    if n < 2:\n",
    "        return s\n",
    "    \n",
    "    start = 0\n",
    "    max_len = 1\n",
    "    \n",
    "    def expand_around_center(left, right):\n",
    "        nonlocal start, max_len\n",
    "        while left >= 0 and right < n and s[left] == s[right]:\n",
    "            current_len = right - left + 1\n",
    "            if current_len > max_len:\n",
    "                max_len = current_len\n",
    "                start = left\n",
    "            left -= 1\n",
    "            right += 1\n",
    "    \n",
    "    for i in range(n):\n",
    "        expand_around_center(i, i)       # Odd length palindromes\n",
    "        expand_around_center(i, i + 1)   # Even length palindromes\n",
    "    \n",
    "    return s[start:start + max_len]\n",
    "\n",
    "# Function to get user input\n",
    "def main():\n",
    "    input_str = input(\"Enter a string: \").strip()\n",
    "    if not input_str:\n",
    "        print(\"Empty string entered.\")\n",
    "        return\n",
    "    \n",
    "    result = longest_palindromic_substring(input_str)\n",
    "    print(f\"The longest palindromic substring in '{input_str}' is '{result}'.\")\n",
    "\n",
    "if __name__ == \"__main__\":\n",
    "    main()"
   ]
  },
  {
   "cell_type": "markdown",
   "id": "26b50e8b-0708-458a-a68d-f3d5d7446cc7",
   "metadata": {},
   "source": [
    "6. Merge Intervals"
   ]
  },
  {
   "cell_type": "code",
   "execution_count": 5,
   "id": "d1148ebd-0d15-4784-bedc-2cd5937066eb",
   "metadata": {},
   "outputs": [
    {
     "name": "stdout",
     "output_type": "stream",
     "text": [
      "Merged intervals: [(1, 6), (8, 10), (15, 18)]\n"
     ]
    }
   ],
   "source": [
    "def merge_intervals(intervals):\n",
    "    if not intervals:\n",
    "        return []\n",
    "\n",
    "    # Sort intervals based on the starting value\n",
    "    intervals.sort(key=lambda x: x[0])\n",
    "    \n",
    "    merged = []\n",
    "    for interval in intervals:\n",
    "        # If the list of merged intervals is empty or if the current interval does not overlap with the previous,\n",
    "        # simply append it.\n",
    "        if not merged or merged[-1][1] < interval[0]:\n",
    "            merged.append(interval)\n",
    "        else:\n",
    "            # Otherwise, there is overlap, so merge the current and previous intervals.\n",
    "            merged[-1] = (merged[-1][0], max(merged[-1][1], interval[1]))\n",
    "    \n",
    "    return merged\n",
    "\n",
    "def main():\n",
    "    intervals = [(1, 3), (2, 6), (8, 10), (15, 18)]\n",
    "    merged_intervals = merge_intervals(intervals)\n",
    "    print(\"Merged intervals:\", merged_intervals)\n",
    "\n",
    "if __name__ == \"__main__\":\n",
    "    main()\n"
   ]
  },
  {
   "cell_type": "markdown",
   "id": "d0998af0-98ba-476e-826f-17fb06dbb3a1",
   "metadata": {},
   "source": [
    "7. Maximum Subarray"
   ]
  },
  {
   "cell_type": "code",
   "execution_count": 10,
   "id": "8aa89724-6637-41aa-a8f2-26717ff868d4",
   "metadata": {},
   "outputs": [
    {
     "name": "stdout",
     "output_type": "stream",
     "text": [
      "The maximum sum of a contiguous subarray is: 6\n"
     ]
    }
   ],
   "source": [
    "def max_subarray(nums):\n",
    "    if not nums:\n",
    "        return 0\n",
    "    \n",
    "    max_sum = current_sum = nums[0]\n",
    "    \n",
    "    for num in nums[1:]:\n",
    "        current_sum = max(num, current_sum + num)\n",
    "        max_sum = max(max_sum, current_sum)\n",
    "    \n",
    "    return max_sum\n",
    "\n",
    "def main():\n",
    "    nums = [-2, 1, -3, 4, -1, 2, 1, -5, 4]\n",
    "    max_sum = max_subarray(nums)\n",
    "    print(f\"The maximum sum of a contiguous subarray is: {max_sum}\")\n",
    "\n",
    "if __name__ == \"__main__\":\n",
    "    main()\n"
   ]
  },
  {
   "cell_type": "markdown",
   "id": "d1dfd197-bb41-4885-bb22-9a86f2ca762a",
   "metadata": {},
   "source": [
    "8. Reverse Linked List"
   ]
  },
  {
   "cell_type": "code",
   "execution_count": 6,
   "id": "79118d55-9268-4834-a8ef-59dbb56ff54b",
   "metadata": {},
   "outputs": [
    {
     "name": "stdout",
     "output_type": "stream",
     "text": [
      "Original linked list:\n",
      "1 -> 2 -> 3 -> 4 -> 5\n",
      "Reversed linked list:\n",
      "5 -> 4 -> 3 -> 2 -> 1\n"
     ]
    }
   ],
   "source": [
    "class ListNode:\n",
    "    def __init__(self, value=0, next=None):\n",
    "        self.value = value\n",
    "        self.next = next\n",
    "\n",
    "def print_linked_list(head):\n",
    "    current = head\n",
    "    while current:\n",
    "        print(current.value, end=\" -> \" if current.next else \"\")\n",
    "        current = current.next\n",
    "    print()\n",
    "\n",
    "def reverse_linked_list(head):\n",
    "    prev = None\n",
    "    current = head\n",
    "    while current:\n",
    "        next_node = current.next   # Store the next node\n",
    "        current.next = prev        # Reverse the current node's pointer\n",
    "        prev = current             # Move pointers one position ahead\n",
    "        current = next_node\n",
    "    return prev\n",
    "\n",
    "# Example usage\n",
    "if __name__ == \"__main__\":\n",
    "    # Create a linked list 1 -> 2 -> 3 -> 4 -> 5\n",
    "    head = ListNode(1, ListNode(2, ListNode(3, ListNode(4, ListNode(5)))))\n",
    "\n",
    "    print(\"Original linked list:\")\n",
    "    print_linked_list(head)\n",
    "\n",
    "    reversed_head = reverse_linked_list(head)\n",
    "\n",
    "    print(\"Reversed linked list:\")\n",
    "    print_linked_list(reversed_head)"
   ]
  },
  {
   "cell_type": "markdown",
   "id": "12c299fd-611a-4e36-801c-08b384e1abea",
   "metadata": {},
   "source": [
    "9. Minimum Edit Distance"
   ]
  },
  {
   "cell_type": "code",
   "execution_count": 11,
   "id": "d422a105-eb12-426c-8576-ff02437d8bdb",
   "metadata": {},
   "outputs": [
    {
     "name": "stdout",
     "output_type": "stream",
     "text": [
      "The minimum edit distance between 'kitten' and 'sitting' is 3.\n"
     ]
    }
   ],
   "source": [
    "def min_edit_distance(str1, str2):\n",
    "    m = len(str1)\n",
    "    r = len(str2)\n",
    "\n",
    "    # Create a matrix to store the distances\n",
    "    dp = [[0 for x in range(r + 1)] for x in range(m + 1)]\n",
    "\n",
    "    # Initialize the matrix\n",
    "    for i in range(m + 1):\n",
    "        for j in range(r + 1):\n",
    "            if i == 0:\n",
    "                dp[i][j] = j    # Minimum operations = j\n",
    "            elif j == 0:\n",
    "                dp[i][j] = i    # Minimum operations = i\n",
    "            elif str1[i-1] == str2[j-1]:\n",
    "                dp[i][j] = dp[i-1][j-1]\n",
    "            else:\n",
    "                dp[i][j] = 1 + min(dp[i][j-1],    # Insert\n",
    "                                   dp[i-1][j],    # Remove\n",
    "                                   dp[i-1][j-1])  # Replace\n",
    "    return dp[m][r]\n",
    "\n",
    "def main():\n",
    "    str1 = \"kitten\"\n",
    "    str2 = \"sitting\"\n",
    "\n",
    "    distance = min_edit_distance(str1, str2)\n",
    "    print(f\"The minimum edit distance between '{str1}' and '{str2}' is {distance}.\")\n",
    "\n",
    "if __name__ == \"__main__\":\n",
    "    main()"
   ]
  },
  {
   "cell_type": "markdown",
   "id": "0d57a9e1-5609-4042-a026-c3928295b45c",
   "metadata": {},
   "source": [
    "10. Boggle Game"
   ]
  },
  {
   "cell_type": "code",
   "execution_count": 1,
   "id": "98b4d936-c7a8-4684-933c-56540b6317a9",
   "metadata": {},
   "outputs": [
    {
     "name": "stdout",
     "output_type": "stream",
     "text": [
      "Found words: ['GH']\n"
     ]
    }
   ],
   "source": [
    "class BoggleSolver:\n",
    "    def __init__(self, board, word_list):\n",
    "        self.board = board\n",
    "        self.word_list = word_list\n",
    "        self.visited = [[False] * len(board[0]) for _ in range(len(board))]\n",
    "        self.found_words = set()\n",
    "\n",
    "    def is_valid(self, i, j):\n",
    "        return 0 <= i < len(self.board) and 0 <= j < len(self.board[0]) and not self.visited[i][j]\n",
    "\n",
    "    def dfs(self, i, j, prefix):\n",
    "        self.visited[i][j] = True\n",
    "        prefix += self.board[i][j]\n",
    "\n",
    "        if prefix in self.word_list:\n",
    "            self.found_words.add(prefix)\n",
    "\n",
    "        # Define possible movement directions (8 possible directions in Boggle)\n",
    "        directions = [(-1, 0), (1, 0), (0, -1), (0, 1), (-1, -1), (-1, 1), (1, -1), (1, 1)]\n",
    "\n",
    "        for di, dj in directions:\n",
    "            ni, nj = i + di, j + dj\n",
    "            if self.is_valid(ni, nj):\n",
    "                self.dfs(ni, nj, prefix)\n",
    "\n",
    "        # Backtrack\n",
    "        self.visited[i][j] = False\n",
    "\n",
    "    def find_words(self):\n",
    "        for i in range(len(self.board)):\n",
    "            for j in range(len(self.board[0])):\n",
    "                self.dfs(i, j, '')\n",
    "\n",
    "        return list(self.found_words)\n",
    "\n",
    "# Example usage:\n",
    "board = [\n",
    "    ['M', 'T', 'N'],\n",
    "    ['C', 'A', 'F'],\n",
    "    ['G', 'H', 'P']\n",
    "]\n",
    "word_list = ['AB', 'DEF', 'GH', 'BD', 'CF', 'AEI', 'DHG', 'CFI']\n",
    "solver = BoggleSolver(board, word_list)\n",
    "found_words = solver.find_words()\n",
    "print(\"Found words:\", found_words)\n"
   ]
  },
  {
   "cell_type": "code",
   "execution_count": null,
   "id": "6c39b0a3-e6ae-4cec-b963-7c77630092b5",
   "metadata": {},
   "outputs": [],
   "source": []
  }
 ],
 "metadata": {
  "kernelspec": {
   "display_name": "Python 3 (ipykernel)",
   "language": "python",
   "name": "python3"
  },
  "language_info": {
   "codemirror_mode": {
    "name": "ipython",
    "version": 3
   },
   "file_extension": ".py",
   "mimetype": "text/x-python",
   "name": "python",
   "nbconvert_exporter": "python",
   "pygments_lexer": "ipython3",
   "version": "3.11.7"
  }
 },
 "nbformat": 4,
 "nbformat_minor": 5
}
