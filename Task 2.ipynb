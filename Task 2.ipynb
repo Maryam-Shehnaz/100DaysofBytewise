{
 "cells": [
  {
   "cell_type": "markdown",
   "id": "7f9ae2ad-e040-4a3e-9b0a-8a866b1f948e",
   "metadata": {},
   "source": [
    "1. Palindrome Checker (Word)"
   ]
  },
  {
   "cell_type": "code",
   "execution_count": 4,
   "id": "c264a22e-42d7-4b32-845c-c1cc56c5ca84",
   "metadata": {},
   "outputs": [
    {
     "name": "stdin",
     "output_type": "stream",
     "text": [
      "Enter a string:  python\n"
     ]
    },
    {
     "name": "stdout",
     "output_type": "stream",
     "text": [
      "'python' is not a palindrome.\n"
     ]
    }
   ],
   "source": [
    "def is_palindrome(s):\n",
    "    # Remove spaces and convert to lowercase\n",
    "    s = s.replace(\" \", \"\").lower()\n",
    "    # Compare the string\n",
    "    return s == s[::-1]\n",
    "\n",
    "# Take input \n",
    "user_string = input(\"Enter a string: \")\n",
    "\n",
    "# Check condition\n",
    "if is_palindrome(user_string):\n",
    "    print(f\"'{user_string}' is a palindrome.\")\n",
    "else:\n",
    "    print(f\"'{user_string}' is not a palindrome.\")"
   ]
  },
  {
   "cell_type": "markdown",
   "id": "89f4f298-1be4-4e88-a317-b0b288b8453b",
   "metadata": {},
   "source": [
    "2. FizzBuzz"
   ]
  },
  {
   "cell_type": "code",
   "execution_count": 5,
   "id": "61b00332-ecf8-47d4-b5bb-d4a94bcb8f28",
   "metadata": {},
   "outputs": [
    {
     "name": "stdout",
     "output_type": "stream",
     "text": [
      "1\n",
      "2\n",
      "Fizz\n",
      "4\n",
      "Buzz\n",
      "Fizz\n",
      "7\n",
      "8\n",
      "Fizz\n",
      "Buzz\n",
      "11\n",
      "Fizz\n",
      "13\n",
      "14\n",
      "FizzBuzz\n",
      "16\n",
      "17\n",
      "Fizz\n",
      "19\n",
      "Buzz\n",
      "Fizz\n",
      "22\n",
      "23\n",
      "Fizz\n",
      "Buzz\n",
      "26\n",
      "Fizz\n",
      "28\n",
      "29\n",
      "FizzBuzz\n",
      "31\n",
      "32\n",
      "Fizz\n",
      "34\n",
      "Buzz\n",
      "Fizz\n",
      "37\n",
      "38\n",
      "Fizz\n",
      "Buzz\n",
      "41\n",
      "Fizz\n",
      "43\n",
      "44\n",
      "FizzBuzz\n",
      "46\n",
      "47\n",
      "Fizz\n",
      "49\n",
      "Buzz\n",
      "Fizz\n",
      "52\n",
      "53\n",
      "Fizz\n",
      "Buzz\n",
      "56\n",
      "Fizz\n",
      "58\n",
      "59\n",
      "FizzBuzz\n",
      "61\n",
      "62\n",
      "Fizz\n",
      "64\n",
      "Buzz\n",
      "Fizz\n",
      "67\n",
      "68\n",
      "Fizz\n",
      "Buzz\n",
      "71\n",
      "Fizz\n",
      "73\n",
      "74\n",
      "FizzBuzz\n",
      "76\n",
      "77\n",
      "Fizz\n",
      "79\n",
      "Buzz\n",
      "Fizz\n",
      "82\n",
      "83\n",
      "Fizz\n",
      "Buzz\n",
      "86\n",
      "Fizz\n",
      "88\n",
      "89\n",
      "FizzBuzz\n",
      "91\n",
      "92\n",
      "Fizz\n",
      "94\n",
      "Buzz\n",
      "Fizz\n",
      "97\n",
      "98\n",
      "Fizz\n",
      "Buzz\n"
     ]
    }
   ],
   "source": [
    "def fizz_buzz():\n",
    "    for i in range(1, 101):\n",
    "        if i % 3 == 0 and i % 5 == 0:\n",
    "            print(\"FizzBuzz\")\n",
    "        elif i % 3 == 0:\n",
    "            print(\"Fizz\")\n",
    "        elif i % 5 == 0:\n",
    "            print(\"Buzz\")\n",
    "        else:\n",
    "            print(i)\n",
    "\n",
    "# Run the function\n",
    "fizz_buzz()"
   ]
  },
  {
   "cell_type": "markdown",
   "id": "70560580-6a86-49d4-b8f1-dc4eaff052ca",
   "metadata": {},
   "source": [
    "3. Nth Fibonacci Number"
   ]
  },
  {
   "cell_type": "code",
   "execution_count": 9,
   "id": "e0e2ce27-8222-4cbf-b35c-bb65caf1f898",
   "metadata": {},
   "outputs": [
    {
     "name": "stdin",
     "output_type": "stream",
     "text": [
      "Enter the position of the Fibonacci number you want to find:  10\n"
     ]
    },
    {
     "name": "stdout",
     "output_type": "stream",
     "text": [
      "The 10th Fibonacci number is 55.\n"
     ]
    }
   ],
   "source": [
    "def fibonacci(n):\n",
    "    if n <= 0:\n",
    "        return \"Input should be a positive integer.\"\n",
    "    elif n == 1:\n",
    "        return 1\n",
    "    elif n == 2:\n",
    "        return 1\n",
    "    else:\n",
    "        a, b = 1, 1\n",
    "        for _ in range(3, n + 1):\n",
    "            a, b = b, a + b\n",
    "        return b\n",
    "\n",
    "# Take input \n",
    "n = int(input(\"Enter the position of the Fibonacci number you want to find: \"))\n",
    "\n",
    "# Calculate the nth Fibonacci number\n",
    "nth_fibonacci = fibonacci(n)\n",
    "\n",
    "# print\n",
    "print(f\"The {n}th Fibonacci number is {nth_fibonacci}.\")"
   ]
  },
  {
   "cell_type": "markdown",
   "id": "a6412abf-8698-43bf-90fc-e2df192237a3",
   "metadata": {},
   "source": [
    "4. Prime Number Checker"
   ]
  },
  {
   "cell_type": "code",
   "execution_count": 11,
   "id": "d07f7122-a358-4103-b523-fc138d676f6c",
   "metadata": {},
   "outputs": [
    {
     "name": "stdin",
     "output_type": "stream",
     "text": [
      "Enter a number to check if it is prime:  10\n"
     ]
    },
    {
     "name": "stdout",
     "output_type": "stream",
     "text": [
      "10 is not a prime number.\n"
     ]
    }
   ],
   "source": [
    "def is_prime(number):\n",
    "    if number <= 1:\n",
    "        return False\n",
    "    elif number <= 3:\n",
    "        return True\n",
    "    elif number % 2 == 0 or number % 3 == 0:\n",
    "        return False\n",
    "    i = 5\n",
    "    while i * i <= number:\n",
    "        if number % i == 0 or number % (i + 2) == 0:\n",
    "            return False\n",
    "        i += 6\n",
    "    return True\n",
    "\n",
    "# Take input \n",
    "number = int(input(\"Enter a number to check if it is prime: \"))\n",
    "\n",
    "# Check if the number is prime\n",
    "if is_prime(number):\n",
    "    print(f\"{number} is a prime number.\")\n",
    "else:\n",
    "    print(f\"{number} is not a prime number.\")"
   ]
  },
  {
   "cell_type": "markdown",
   "id": "e61d90e2-df70-42db-be36-d88e1f5bf39c",
   "metadata": {},
   "source": [
    "5. Guess the Number Game"
   ]
  },
  {
   "cell_type": "code",
   "execution_count": 1,
   "id": "ff2ecdd7-c295-43c1-abb7-ba11c1c7b6f8",
   "metadata": {},
   "outputs": [
    {
     "name": "stdout",
     "output_type": "stream",
     "text": [
      "I have generated a number between 1 and 10. Can you guess it?\n"
     ]
    },
    {
     "name": "stdin",
     "output_type": "stream",
     "text": [
      "Enter your guess:  1\n"
     ]
    },
    {
     "name": "stdout",
     "output_type": "stream",
     "text": [
      "Your guess is too low.\n"
     ]
    },
    {
     "name": "stdin",
     "output_type": "stream",
     "text": [
      "Enter your guess:  5\n"
     ]
    },
    {
     "name": "stdout",
     "output_type": "stream",
     "text": [
      "Your guess is too low.\n"
     ]
    },
    {
     "name": "stdin",
     "output_type": "stream",
     "text": [
      "Enter your guess:  7\n"
     ]
    },
    {
     "name": "stdout",
     "output_type": "stream",
     "text": [
      "Your guess is too low.\n"
     ]
    },
    {
     "name": "stdin",
     "output_type": "stream",
     "text": [
      "Enter your guess:  8\n"
     ]
    },
    {
     "name": "stdout",
     "output_type": "stream",
     "text": [
      "Congratulations! You've guessed the number correctly in 4 attempts.\n"
     ]
    }
   ],
   "source": [
    "import random\n",
    "\n",
    "def guess_the_number():\n",
    "    # Generate a random number between 1 and 10\n",
    "    number_to_guess = random.randint(1, 10)\n",
    "    attempts = 0\n",
    "\n",
    "    print(\"I have generated a number between 1 and 10. Can you guess it?\")\n",
    "\n",
    "    while True:\n",
    "        # Take user's guess\n",
    "        user_guess = int(input(\"Enter your guess: \"))\n",
    "        attempts += 1\n",
    "\n",
    "        # Check the user's guess\n",
    "        if user_guess < number_to_guess:\n",
    "            print(\"Your guess is too low.\")\n",
    "        elif user_guess > number_to_guess:\n",
    "            print(\"Your guess is too high.\")\n",
    "        else:\n",
    "            print(f\"Congratulations! You've guessed the number correctly in {attempts} attempts.\")\n",
    "            break\n",
    "\n",
    "# Start the game\n",
    "guess_the_number()\n"
   ]
  },
  {
   "cell_type": "markdown",
   "id": "8665c227-2a32-4de0-abec-085bb444534d",
   "metadata": {},
   "source": [
    "6. List Comprehension"
   ]
  },
  {
   "cell_type": "code",
   "execution_count": 3,
   "id": "f9514c15-0082-49ef-97ba-76bb2334bb0e",
   "metadata": {},
   "outputs": [
    {
     "name": "stdout",
     "output_type": "stream",
     "text": [
      "Squares of first ten integers are:[1, 4, 9, 16, 25, 36, 49, 64, 81, 100]\n"
     ]
    }
   ],
   "source": [
    "# List comprehension \n",
    "squares = [x**2 for x in range(1, 11)]\n",
    "\n",
    "# Print the list of squares\n",
    "print(f\"Squares of first ten integers are:{squares}\")"
   ]
  },
  {
   "cell_type": "markdown",
   "id": "9847b746-6592-4c76-ba19-d0b149df12f9",
   "metadata": {},
   "source": [
    "7. Palindrome Sentences"
   ]
  },
  {
   "cell_type": "code",
   "execution_count": 6,
   "id": "6b9e2d20-c34e-4f0a-8a8d-650876d3853e",
   "metadata": {},
   "outputs": [
    {
     "name": "stdin",
     "output_type": "stream",
     "text": [
      "Enter a sentence:  A man, a plan, a canal: Panama\n"
     ]
    },
    {
     "name": "stdout",
     "output_type": "stream",
     "text": [
      "\"A man, a plan, a canal: Panama\" is a palindrome.\n"
     ]
    }
   ],
   "source": [
    "import string\n",
    "\n",
    "def is_palindrome(sentence):\n",
    "    # Remove punctuation and convert to lowercase\n",
    "    cleaned_sentence = ''.join(char.lower() for char in sentence if char not in string.punctuation and not char.isspace())\n",
    "    \n",
    "    # Check if the cleaned sentence is same as forwards and backwards\n",
    "    return cleaned_sentence == cleaned_sentence[::-1]\n",
    "\n",
    "# Take input \n",
    "sentence = input(\"Enter a sentence: \")\n",
    "\n",
    "# Check condition\n",
    "if is_palindrome(sentence):\n",
    "    print(f'\"{sentence}\" is a palindrome.')\n",
    "else:\n",
    "    print(f'\"{sentence}\" is not a palindrome.')"
   ]
  },
  {
   "cell_type": "markdown",
   "id": "3facae1e-0086-4274-bd5d-dd9187d7c0e2",
   "metadata": {},
   "source": [
    "8. Anagram Checker"
   ]
  },
  {
   "cell_type": "code",
   "execution_count": 12,
   "id": "246dd7c1-ded4-4891-b6ad-8b476b49db85",
   "metadata": {},
   "outputs": [
    {
     "name": "stdin",
     "output_type": "stream",
     "text": [
      "Enter the first string:  listen\n",
      "Enter the second string:  silent\n"
     ]
    },
    {
     "name": "stdout",
     "output_type": "stream",
     "text": [
      "\"listen\" and \"silent\" are anagrams.\n"
     ]
    }
   ],
   "source": [
    "def are_anagrams(str1, str2):\n",
    "    # Clean and sort both strings\n",
    "    cleaned_str1 = sorted(char.lower() for char in str1 if char.isalnum())\n",
    "    cleaned_str2 = sorted(char.lower() for char in str2 if char.isalnum())\n",
    "    \n",
    "    # Compare \n",
    "    return cleaned_str1 == cleaned_str2\n",
    "\n",
    "# Take input \n",
    "string1 = input(\"Enter the first string: \")\n",
    "string2 = input(\"Enter the second string: \")\n",
    "\n",
    "# Check condition\n",
    "if are_anagrams(string1, string2):\n",
    "    print(f'\"{string1}\" and \"{string2}\" are anagrams.')\n",
    "else:\n",
    "    print(f'\"{string1}\" and \"{string2}\" are not anagrams.')"
   ]
  },
  {
   "cell_type": "markdown",
   "id": "afd1f2aa-2acb-4ada-9ba7-d1240ce18916",
   "metadata": {},
   "source": [
    "9. Reverse Words in a Sentence"
   ]
  },
  {
   "cell_type": "code",
   "execution_count": 11,
   "id": "43b53543-0b6e-4504-87ce-486d72e382d5",
   "metadata": {},
   "outputs": [
    {
     "name": "stdin",
     "output_type": "stream",
     "text": [
      "Enter a sentence:  hello world\n"
     ]
    },
    {
     "name": "stdout",
     "output_type": "stream",
     "text": [
      "world hello\n"
     ]
    }
   ],
   "source": [
    "def reverse_words(sentence):\n",
    "    # Split the sentence into words\n",
    "    words = sentence.split()\n",
    "    \n",
    "    # Reverse the order of words\n",
    "    reversed_sentence = ' '.join(reversed(words))\n",
    "    \n",
    "    return reversed_sentence\n",
    "\n",
    "input_sentence = input(\"Enter a sentence: \")\n",
    "\n",
    "# Reverse the words in the sentence\n",
    "output_sentence = reverse_words(input_sentence)\n",
    "\n",
    "# Print \n",
    "print(output_sentence)"
   ]
  },
  {
   "cell_type": "markdown",
   "id": "15702d2b-7a2b-421a-a1e4-7b17fcc2ba02",
   "metadata": {},
   "source": [
    "10. Temperature Converter"
   ]
  },
  {
   "cell_type": "code",
   "execution_count": 10,
   "id": "e9655033-4cee-45da-8ea0-f0cebc1ce062",
   "metadata": {},
   "outputs": [
    {
     "name": "stdin",
     "output_type": "stream",
     "text": [
      "Enter temperature in Celsius:  20\n"
     ]
    },
    {
     "name": "stdout",
     "output_type": "stream",
     "text": [
      "20.0 degrees Celsius is equal to 68.0 degrees Fahrenheit and 293.15 degrees Kelvin.\n"
     ]
    }
   ],
   "source": [
    "def celsius_to_fahrenheit(celsius):\n",
    "    fahrenheit = celsius * 9/5 + 32\n",
    "    return fahrenheit\n",
    "\n",
    "def celsius_to_kelvin(celsius):\n",
    "    kelvin = celsius + 273.15\n",
    "    return kelvin\n",
    "\n",
    "# Take input \n",
    "celsius = float(input(\"Enter temperature in Celsius: \"))\n",
    "\n",
    "# Convert Celsius to Fahrenheit and Kelvin\n",
    "fahrenheit = celsius_to_fahrenheit(celsius)\n",
    "kelvin = celsius_to_kelvin(celsius)\n",
    "\n",
    "# Print \n",
    "print(f\"{celsius} degrees Celsius is equal to {fahrenheit} degrees Fahrenheit and {kelvin} degrees Kelvin.\")\n"
   ]
  },
  {
   "cell_type": "code",
   "execution_count": null,
   "id": "03ac57ff-7d79-4dc0-84b6-5bbffc9e3326",
   "metadata": {},
   "outputs": [],
   "source": []
  }
 ],
 "metadata": {
  "kernelspec": {
   "display_name": "Python 3 (ipykernel)",
   "language": "python",
   "name": "python3"
  },
  "language_info": {
   "codemirror_mode": {
    "name": "ipython",
    "version": 3
   },
   "file_extension": ".py",
   "mimetype": "text/x-python",
   "name": "python",
   "nbconvert_exporter": "python",
   "pygments_lexer": "ipython3",
   "version": "3.11.7"
  }
 },
 "nbformat": 4,
 "nbformat_minor": 5
}
