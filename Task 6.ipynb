{
 "cells": [
  {
   "cell_type": "markdown",
   "id": "d0a38c0b-5650-4308-869c-9b4ce9ec6b6f",
   "metadata": {},
   "source": [
    "Exercise: Load a simple dataset (e.g., the Iris dataset from Scikit-Learn) and print the first 5 rows."
   ]
  },
  {
   "cell_type": "code",
   "execution_count": 2,
   "id": "e532734f-4843-4d84-99d6-c1b11e2961c5",
   "metadata": {},
   "outputs": [],
   "source": [
    "import pandas as pd"
   ]
  },
  {
   "cell_type": "code",
   "execution_count": 3,
   "id": "314441b9-2943-4dc4-a60e-76fab5403a9e",
   "metadata": {},
   "outputs": [],
   "source": [
    "df = pd.read_csv('IRIS.csv', encoding='latin1')"
   ]
  },
  {
   "cell_type": "code",
   "execution_count": 4,
   "id": "dca394dd-8057-4b33-a13d-b3c6e9b2cb2d",
   "metadata": {},
   "outputs": [
    {
     "data": {
      "text/html": [
       "<div>\n",
       "<style scoped>\n",
       "    .dataframe tbody tr th:only-of-type {\n",
       "        vertical-align: middle;\n",
       "    }\n",
       "\n",
       "    .dataframe tbody tr th {\n",
       "        vertical-align: top;\n",
       "    }\n",
       "\n",
       "    .dataframe thead th {\n",
       "        text-align: right;\n",
       "    }\n",
       "</style>\n",
       "<table border=\"1\" class=\"dataframe\">\n",
       "  <thead>\n",
       "    <tr style=\"text-align: right;\">\n",
       "      <th></th>\n",
       "      <th>sepal_length</th>\n",
       "      <th>sepal_width</th>\n",
       "      <th>petal_length</th>\n",
       "      <th>petal_width</th>\n",
       "      <th>species</th>\n",
       "    </tr>\n",
       "  </thead>\n",
       "  <tbody>\n",
       "    <tr>\n",
       "      <th>0</th>\n",
       "      <td>5.1</td>\n",
       "      <td>3.5</td>\n",
       "      <td>1.4</td>\n",
       "      <td>0.2</td>\n",
       "      <td>Iris-setosa</td>\n",
       "    </tr>\n",
       "    <tr>\n",
       "      <th>1</th>\n",
       "      <td>4.9</td>\n",
       "      <td>3.0</td>\n",
       "      <td>1.4</td>\n",
       "      <td>0.2</td>\n",
       "      <td>Iris-setosa</td>\n",
       "    </tr>\n",
       "    <tr>\n",
       "      <th>2</th>\n",
       "      <td>4.7</td>\n",
       "      <td>3.2</td>\n",
       "      <td>1.3</td>\n",
       "      <td>0.2</td>\n",
       "      <td>Iris-setosa</td>\n",
       "    </tr>\n",
       "    <tr>\n",
       "      <th>3</th>\n",
       "      <td>4.6</td>\n",
       "      <td>3.1</td>\n",
       "      <td>1.5</td>\n",
       "      <td>0.2</td>\n",
       "      <td>Iris-setosa</td>\n",
       "    </tr>\n",
       "    <tr>\n",
       "      <th>4</th>\n",
       "      <td>5.0</td>\n",
       "      <td>3.6</td>\n",
       "      <td>1.4</td>\n",
       "      <td>0.2</td>\n",
       "      <td>Iris-setosa</td>\n",
       "    </tr>\n",
       "  </tbody>\n",
       "</table>\n",
       "</div>"
      ],
      "text/plain": [
       "   sepal_length  sepal_width  petal_length  petal_width      species\n",
       "0           5.1          3.5           1.4          0.2  Iris-setosa\n",
       "1           4.9          3.0           1.4          0.2  Iris-setosa\n",
       "2           4.7          3.2           1.3          0.2  Iris-setosa\n",
       "3           4.6          3.1           1.5          0.2  Iris-setosa\n",
       "4           5.0          3.6           1.4          0.2  Iris-setosa"
      ]
     },
     "execution_count": 4,
     "metadata": {},
     "output_type": "execute_result"
    }
   ],
   "source": [
    "df.head()"
   ]
  },
  {
   "cell_type": "markdown",
   "id": "22e3da3c-9c18-4b04-8b75-25bc3ce7121c",
   "metadata": {},
   "source": [
    "Exercise: Implement a function that takes a dataset and returns the number of features and samples."
   ]
  },
  {
   "cell_type": "code",
   "execution_count": 6,
   "id": "5286b388-222c-4e5f-8dcf-1678b572864b",
   "metadata": {},
   "outputs": [
    {
     "name": "stdout",
     "output_type": "stream",
     "text": [
      "Number of features: 5\n",
      "Number of samples: 150\n"
     ]
    }
   ],
   "source": [
    "# Function \n",
    "def dataset_info(data):\n",
    "    num_features = data.shape[1]\n",
    "    num_samples = data.shape[0]\n",
    "    \n",
    "    return num_features, num_samples\n",
    "\n",
    "num_features, num_samples = dataset_info(df)\n",
    "print(f\"Number of features: {num_features}\")\n",
    "print(f\"Number of samples: {num_samples}\")"
   ]
  },
  {
   "cell_type": "markdown",
   "id": "dbd31872-86ba-4989-a5b1-64fee25b5778",
   "metadata": {},
   "source": [
    "Exercise: Split a dataset into training and testing sets with an 80/20 split."
   ]
  },
  {
   "cell_type": "code",
   "execution_count": null,
   "id": "11079f74-6b86-4087-9b9d-f66bc6404be4",
   "metadata": {},
   "outputs": [],
   "source": [
    "from sklearn.model_selection import train_test_split\n",
    "# Split the dataset into features (X) and target variable (y)\n",
    "X = df.drop('species', axis=1)\n",
    "y = df['species']\n",
    "\n",
    "# Split the data into training and testing sets with an 80/20 split\n",
    "X_train, X_test, y_train, y_test = train_test_split(X, y, test_size=0.2, random_state=42)"
   ]
  },
  {
   "cell_type": "markdown",
   "id": "23673957-1397-4997-93bf-880f30212921",
   "metadata": {},
   "source": [
    "Exercise: Explore the basic statistics of a dataset, such as mean, median, and standard deviation for each feature."
   ]
  },
  {
   "cell_type": "code",
   "execution_count": 3,
   "id": "6cc7e8af-3b35-41bb-9844-99a641fee49b",
   "metadata": {},
   "outputs": [
    {
     "name": "stdout",
     "output_type": "stream",
     "text": [
      "Feature 'sepal_length' statistics:\n",
      "\tMean: 5.843333333333334\n",
      "\tMedian: 5.8\n",
      "\tStandard Deviation: 0.8253012917851409\n",
      "***\n",
      "Feature 'sepal_width' statistics:\n",
      "\tMean: 3.0540000000000003\n",
      "\tMedian: 3.0\n",
      "\tStandard Deviation: 0.4321465800705435\n",
      "***\n",
      "Feature 'petal_length' statistics:\n",
      "\tMean: 3.758666666666666\n",
      "\tMedian: 4.35\n",
      "\tStandard Deviation: 1.7585291834055201\n",
      "***\n",
      "Feature 'petal_width' statistics:\n",
      "\tMean: 1.1986666666666668\n",
      "\tMedian: 1.3\n",
      "\tStandard Deviation: 0.760612618588172\n",
      "***\n"
     ]
    }
   ],
   "source": [
    "import pandas as pd\n",
    "import numpy as np\n",
    "\n",
    "# Load the dataset\n",
    "df = pd.read_csv('IRIS.csv', encoding='latin1')\n",
    "\n",
    "for column in df.columns:\n",
    "    if column != 'species': \n",
    "        feature_data = df[column]\n",
    "        mean = np.mean(feature_data)\n",
    "        median = np.median(feature_data)\n",
    "        std_dev = np.std(feature_data)\n",
    "\n",
    "        print(f\"Feature '{column}' statistics:\")\n",
    "        print(f\"\\tMean: {mean}\")\n",
    "        print(f\"\\tMedian: {median}\")\n",
    "        print(f\"\\tStandard Deviation: {std_dev}\")\n",
    "        print(\"***\")"
   ]
  },
  {
   "cell_type": "markdown",
   "id": "2fef06a7-68f9-4ecc-9e9b-119b8acdaf18",
   "metadata": {},
   "source": [
    "Exercise: Visualize the distribution of one of the features in the dataset using a histogram."
   ]
  },
  {
   "cell_type": "code",
   "execution_count": 8,
   "id": "430e82a5-12cf-4823-9953-dfb6b4b8a99c",
   "metadata": {},
   "outputs": [
    {
     "data": {
      "image/png": "[encoded data removed]",
      "text/plain": [
       "<Figure size 800x600 with 1 Axes>"
      ]
     },
     "metadata": {},
     "output_type": "display_data"
    }
   ],
   "source": [
    "import matplotlib.pyplot as plt\n",
    "feature = 'sepal_length'\n",
    "\n",
    "# Create a histogram \n",
    "plt.figure(figsize=(8, 6))\n",
    "plt.hist(df[feature], bins=20, color='blue', edgecolor='black')\n",
    "plt.title(f'Histogram of {feature}')\n",
    "plt.xlabel(f'{feature}')\n",
    "plt.ylabel('Frequency')\n",
    "plt.grid(True)\n",
    "plt.show()"
   ]
  },
  {
   "cell_type": "markdown",
   "id": "4e39082e-4dd5-450e-958b-be4f9daae47e",
   "metadata": {},
   "source": [
    "Exercise: Write a Python script to create a list of 10 numbers and compute their mean."
   ]
  },
  {
   "cell_type": "code",
   "execution_count": 9,
   "id": "6f04d88b-64d4-4dde-b21d-9dff8fa36963",
   "metadata": {},
   "outputs": [
    {
     "name": "stdout",
     "output_type": "stream",
     "text": [
      "Mean of the numbers: 51.5\n"
     ]
    }
   ],
   "source": [
    "# Create a list\n",
    "numbers = [23, 45, 67, 12, 89, 34, 56, 78, 91, 20]\n",
    "\n",
    "# Calculate the mean\n",
    "mean = sum(numbers) / len(numbers)\n",
    "\n",
    "# Print the mean\n",
    "print(\"Mean of the numbers:\", mean)"
   ]
  },
  {
   "cell_type": "markdown",
   "id": "f0c98443-f81e-4a6f-8fec-9aefe97b5df1",
   "metadata": {},
   "source": [
    "Exercise: Create a function that takes a list of numbers and returns a dictionary with the count, mean, median, \n",
    "and standard deviation."
   ]
  },
  {
   "cell_type": "code",
   "execution_count": 4,
   "id": "f0df49aa-3d47-401f-9d9f-a7a5421cdea2",
   "metadata": {},
   "outputs": [
    {
     "name": "stdout",
     "output_type": "stream",
     "text": [
      "Statistics for the numbers: {'count': 10, 'mean': 5.5, 'median': 5.5, 'std_dev': 3.0276503540974917}\n"
     ]
    }
   ],
   "source": [
    "import statistics\n",
    "import math\n",
    "\n",
    "def calculate_stats(numbers):\n",
    "    \n",
    "    count = len(numbers)\n",
    "    \n",
    "    mean = sum(numbers) / count\n",
    "    \n",
    "    median = statistics.median(numbers)\n",
    "    \n",
    "    if count > 1:\n",
    "        std_dev = statistics.stdev(numbers)\n",
    "    else:\n",
    "        std_dev = 0  \n",
    "    \n",
    "    # Create a dictionary \n",
    "    stats_dict = {\n",
    "        'count': count,\n",
    "        'mean': mean,\n",
    "        'median': median,\n",
    "        'std_dev': std_dev\n",
    "    }\n",
    "    \n",
    "    return stats_dict\n",
    "\n",
    "# Example usage:\n",
    "numbers = [1,2,3,4,5,6,7,8,9,10]\n",
    "stats = calculate_stats(numbers)\n",
    "print(\"Statistics for the numbers:\", stats)"
   ]
  },
  {
   "cell_type": "markdown",
   "id": "2ae3a006-5028-4ee6-87e3-cf88b1981a86",
   "metadata": {},
   "source": [
    "Exercise: Generate a 5x5 matrix of random numbers and print it."
   ]
  },
  {
   "cell_type": "code",
   "execution_count": 5,
   "id": "a091e1d0-6eed-48b4-945c-cc07a49b7b63",
   "metadata": {},
   "outputs": [
    {
     "name": "stdout",
     "output_type": "stream",
     "text": [
      "Random Matrix:\n",
      "[1, 12, 11]\n",
      "[4, 15, 9]\n"
     ]
    }
   ],
   "source": [
    "import random\n",
    "\n",
    "def random_matrix(rows, cols):\n",
    "    matrix = []\n",
    "    for i in range(rows):\n",
    "        row = []\n",
    "        for j in range(cols):\n",
    "        \n",
    "            random_num = random.randint(1, 20)\n",
    "            row.append(random_num)\n",
    "        matrix.append(row)\n",
    "    return matrix\n",
    "\n",
    "def print_matrix(matrix):\n",
    "    for row in matrix:\n",
    "        print(row)\n",
    "\n",
    "# Generate a 5x5 matrix of random numbers\n",
    "rows = 2\n",
    "cols = 3\n",
    "random_matrix = random_matrix(rows, cols)\n",
    "\n",
    "# Print the matrix\n",
    "print(\"Random Matrix:\")\n",
    "print_matrix(random_matrix)"
   ]
  },
  {
   "cell_type": "markdown",
   "id": "3a78d725-84f0-4ef6-8474-a6072d8d1e58",
   "metadata": {},
   "source": [
    "Exercise: Load a CSV file into a Pandas DataFrame and print summary statistics for each column."
   ]
  },
  {
   "cell_type": "code",
   "execution_count": 12,
   "id": "1af96947-615c-4db0-8770-852f925db167",
   "metadata": {},
   "outputs": [
    {
     "name": "stdout",
     "output_type": "stream",
     "text": [
      "Summary Statistics for each column:\n",
      "       sepal_length  sepal_width  petal_length  petal_width\n",
      "count    150.000000   150.000000    150.000000   150.000000\n",
      "mean       5.843333     3.054000      3.758667     1.198667\n",
      "std        0.828066     0.433594      1.764420     0.763161\n",
      "min        4.300000     2.000000      1.000000     0.100000\n",
      "25%        5.100000     2.800000      1.600000     0.300000\n",
      "50%        5.800000     3.000000      4.350000     1.300000\n",
      "75%        6.400000     3.300000      5.100000     1.800000\n",
      "max        7.900000     4.400000      6.900000     2.500000\n"
     ]
    }
   ],
   "source": [
    "import pandas as pd\n",
    "\n",
    "df = pd.read_csv('IRIS.csv', encoding='latin1')\n",
    "\n",
    "summary_stats = df.describe()\n",
    "\n",
    "# Print the summary statistics\n",
    "print(\"Summary Statistics for each column:\")\n",
    "print(summary_stats)"
   ]
  },
  {
   "cell_type": "markdown",
   "id": "10b275e2-7011-495b-a089-3f7437f6779f",
   "metadata": {},
   "source": [
    "Exercise: Implement a simple linear regression model using Scikit-Learn and print the model coefficients"
   ]
  },
  {
   "cell_type": "code",
   "execution_count": 17,
   "id": "fa54137a-e1ef-4cba-b32d-64987346df45",
   "metadata": {},
   "outputs": [
    {
     "name": "stdout",
     "output_type": "stream",
     "text": [
      "Model Coefficients:\n",
      "Intercept: -7.0953814782793145\n",
      "Coefficient: 1.8575096654214456\n"
     ]
    }
   ],
   "source": [
    "import pandas as pd\n",
    "from sklearn.linear_model import LinearRegression\n",
    "\n",
    "df = pd.read_csv('IRIS.csv', encoding='latin1')\n",
    "\n",
    "X = df[['sepal_length']]  # Feature (independent variable)\n",
    "y = df['petal_length']    # Target variable (dependent variable)\n",
    "\n",
    "# Initialize model\n",
    "model = LinearRegression()\n",
    "\n",
    "model.fit(X, y)\n",
    "\n",
    "print(\"Model Coefficients:\")\n",
    "print(\"Intercept:\", model.intercept_)\n",
    "print(\"Coefficient:\", model.coef_[0])\n"
   ]
  },
  {
   "cell_type": "code",
   "execution_count": null,
   "id": "6f87efa4-70f0-4c3d-974e-38663ec5b2f8",
   "metadata": {},
   "outputs": [],
   "source": []
  }
 ],
 "metadata": {
  "kernelspec": {
   "display_name": "Python 3 (ipykernel)",
   "language": "python",
   "name": "python3"
  },
  "language_info": {
   "codemirror_mode": {
    "name": "ipython",
    "version": 3
   },
   "file_extension": ".py",
   "mimetype": "text/x-python",
   "name": "python",
   "nbconvert_exporter": "python",
   "pygments_lexer": "ipython3",
   "version": "3.11.7"
  }
 },
 "nbformat": 4,
 "nbformat_minor": 5
}
