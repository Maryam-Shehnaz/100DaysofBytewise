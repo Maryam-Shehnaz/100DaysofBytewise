{
 "cells": [
  {
   "cell_type": "markdown",
   "id": "f57132b0-785b-4e4e-b9d8-285a29daeef6",
   "metadata": {},
   "source": [
    "Titanic Dataset"
   ]
  },
  {
   "cell_type": "markdown",
   "id": "d663abca-5a65-4557-8573-b4c776facd37",
   "metadata": {},
   "source": [
    "Data Preprocessing"
   ]
  },
  {
   "cell_type": "code",
   "execution_count": 9,
   "id": "6b213a5c-c0d7-4c7e-8bf4-7448062c60fc",
   "metadata": {},
   "outputs": [
    {
     "data": {
      "text/html": [
       "<div>\n",
       "<style scoped>\n",
       "    .dataframe tbody tr th:only-of-type {\n",
       "        vertical-align: middle;\n",
       "    }\n",
       "\n",
       "    .dataframe tbody tr th {\n",
       "        vertical-align: top;\n",
       "    }\n",
       "\n",
       "    .dataframe thead th {\n",
       "        text-align: right;\n",
       "    }\n",
       "</style>\n",
       "<table border=\"1\" class=\"dataframe\">\n",
       "  <thead>\n",
       "    <tr style=\"text-align: right;\">\n",
       "      <th></th>\n",
       "      <th>PassengerId</th>\n",
       "      <th>Survived</th>\n",
       "      <th>Pclass</th>\n",
       "      <th>Name</th>\n",
       "      <th>Sex</th>\n",
       "      <th>Age</th>\n",
       "      <th>SibSp</th>\n",
       "      <th>Parch</th>\n",
       "      <th>Ticket</th>\n",
       "      <th>Fare</th>\n",
       "      <th>Cabin</th>\n",
       "      <th>Embarked</th>\n",
       "    </tr>\n",
       "  </thead>\n",
       "  <tbody>\n",
       "    <tr>\n",
       "      <th>0</th>\n",
       "      <td>1</td>\n",
       "      <td>0</td>\n",
       "      <td>3</td>\n",
       "      <td>Braund, Mr. Owen Harris</td>\n",
       "      <td>male</td>\n",
       "      <td>22.0</td>\n",
       "      <td>1</td>\n",
       "      <td>0</td>\n",
       "      <td>A/5 21171</td>\n",
       "      <td>7.2500</td>\n",
       "      <td>NaN</td>\n",
       "      <td>S</td>\n",
       "    </tr>\n",
       "    <tr>\n",
       "      <th>1</th>\n",
       "      <td>2</td>\n",
       "      <td>1</td>\n",
       "      <td>1</td>\n",
       "      <td>Cumings, Mrs. John Bradley (Florence Briggs Th...</td>\n",
       "      <td>female</td>\n",
       "      <td>38.0</td>\n",
       "      <td>1</td>\n",
       "      <td>0</td>\n",
       "      <td>PC 17599</td>\n",
       "      <td>71.2833</td>\n",
       "      <td>C85</td>\n",
       "      <td>C</td>\n",
       "    </tr>\n",
       "    <tr>\n",
       "      <th>2</th>\n",
       "      <td>3</td>\n",
       "      <td>1</td>\n",
       "      <td>3</td>\n",
       "      <td>Heikkinen, Miss. Laina</td>\n",
       "      <td>female</td>\n",
       "      <td>26.0</td>\n",
       "      <td>0</td>\n",
       "      <td>0</td>\n",
       "      <td>STON/O2. 3101282</td>\n",
       "      <td>7.9250</td>\n",
       "      <td>NaN</td>\n",
       "      <td>S</td>\n",
       "    </tr>\n",
       "    <tr>\n",
       "      <th>3</th>\n",
       "      <td>4</td>\n",
       "      <td>1</td>\n",
       "      <td>1</td>\n",
       "      <td>Futrelle, Mrs. Jacques Heath (Lily May Peel)</td>\n",
       "      <td>female</td>\n",
       "      <td>35.0</td>\n",
       "      <td>1</td>\n",
       "      <td>0</td>\n",
       "      <td>113803</td>\n",
       "      <td>53.1000</td>\n",
       "      <td>C123</td>\n",
       "      <td>S</td>\n",
       "    </tr>\n",
       "    <tr>\n",
       "      <th>4</th>\n",
       "      <td>5</td>\n",
       "      <td>0</td>\n",
       "      <td>3</td>\n",
       "      <td>Allen, Mr. William Henry</td>\n",
       "      <td>male</td>\n",
       "      <td>35.0</td>\n",
       "      <td>0</td>\n",
       "      <td>0</td>\n",
       "      <td>373450</td>\n",
       "      <td>8.0500</td>\n",
       "      <td>NaN</td>\n",
       "      <td>S</td>\n",
       "    </tr>\n",
       "  </tbody>\n",
       "</table>\n",
       "</div>"
      ],
      "text/plain": [
       "   PassengerId  Survived  Pclass  \\\n",
       "0            1         0       3   \n",
       "1            2         1       1   \n",
       "2            3         1       3   \n",
       "3            4         1       1   \n",
       "4            5         0       3   \n",
       "\n",
       "                                                Name     Sex   Age  SibSp  \\\n",
       "0                            Braund, Mr. Owen Harris    male  22.0      1   \n",
       "1  Cumings, Mrs. John Bradley (Florence Briggs Th...  female  38.0      1   \n",
       "2                             Heikkinen, Miss. Laina  female  26.0      0   \n",
       "3       Futrelle, Mrs. Jacques Heath (Lily May Peel)  female  35.0      1   \n",
       "4                           Allen, Mr. William Henry    male  35.0      0   \n",
       "\n",
       "   Parch            Ticket     Fare Cabin Embarked  \n",
       "0      0         A/5 21171   7.2500   NaN        S  \n",
       "1      0          PC 17599  71.2833   C85        C  \n",
       "2      0  STON/O2. 3101282   7.9250   NaN        S  \n",
       "3      0            113803  53.1000  C123        S  \n",
       "4      0            373450   8.0500   NaN        S  "
      ]
     },
     "execution_count": 9,
     "metadata": {},
     "output_type": "execute_result"
    }
   ],
   "source": [
    "import pandas as pd\n",
    "import numpy as np\n",
    "from sklearn.model_selection import train_test_split\n",
    "from sklearn.linear_model import LinearRegression, LogisticRegression\n",
    "from sklearn.metrics import mean_squared_error, r2_score,accuracy_score, confusion_matrix,f1_score\n",
    "from sklearn.metrics import classification_report, roc_auc_score,recall_score,precision_score,roc_curve,auc\n",
    "from sklearn.preprocessing import StandardScaler, LabelEncoder\n",
    "from sklearn.model_selection import cross_val_score\n",
    "from sklearn.tree import DecisionTreeClassifier\n",
    "import matplotlib.pyplot as plt\n",
    "import seaborn as sns\n",
    "df=pd.read_csv(\"titanic .csv\")\n",
    "df.head()"
   ]
  },
  {
   "cell_type": "code",
   "execution_count": 10,
   "id": "41e89bbb-2773-4b76-ac63-9bd5e6ffacae",
   "metadata": {},
   "outputs": [
    {
     "data": {
      "text/plain": [
       "(891, 12)"
      ]
     },
     "execution_count": 10,
     "metadata": {},
     "output_type": "execute_result"
    }
   ],
   "source": [
    "df.shape"
   ]
  },
  {
   "cell_type": "code",
   "execution_count": 11,
   "id": "c7cc34bd-127a-45ed-a557-b98c227821b3",
   "metadata": {},
   "outputs": [
    {
     "data": {
      "text/plain": [
       "PassengerId      0\n",
       "Survived         0\n",
       "Pclass           0\n",
       "Name             0\n",
       "Sex              0\n",
       "Age            177\n",
       "SibSp            0\n",
       "Parch            0\n",
       "Ticket           0\n",
       "Fare             0\n",
       "Cabin          687\n",
       "Embarked         2\n",
       "dtype: int64"
      ]
     },
     "execution_count": 11,
     "metadata": {},
     "output_type": "execute_result"
    }
   ],
   "source": [
    "df.isnull().sum()"
   ]
  },
  {
   "cell_type": "code",
   "execution_count": 12,
   "id": "d7297b5b-44d5-4747-bd09-374e7733a06e",
   "metadata": {},
   "outputs": [],
   "source": [
    "# impute age with median\n",
    "df['Age'].fillna(df['Age'].median(), inplace=True)\n",
    "\n",
    "# Drop unnecessary columns\n",
    "df = df.drop(columns=['PassengerId', 'Name', 'Ticket', 'Cabin'])\n",
    "\n",
    "# Impute  Embarked with the mode\n",
    "df['Embarked'].fillna(df['Embarked'].mode()[0], inplace=True)"
   ]
  },
  {
   "cell_type": "code",
   "execution_count": 13,
   "id": "2a671a48-1fdd-4a5a-b9c9-07652c35c484",
   "metadata": {},
   "outputs": [
    {
     "data": {
      "text/plain": [
       "Survived    0\n",
       "Pclass      0\n",
       "Sex         0\n",
       "Age         0\n",
       "SibSp       0\n",
       "Parch       0\n",
       "Fare        0\n",
       "Embarked    0\n",
       "dtype: int64"
      ]
     },
     "execution_count": 13,
     "metadata": {},
     "output_type": "execute_result"
    }
   ],
   "source": [
    "df.isnull().sum()"
   ]
  },
  {
   "cell_type": "code",
   "execution_count": 14,
   "id": "b628c373-90cf-486f-aa67-02a6991affcf",
   "metadata": {},
   "outputs": [],
   "source": [
    "# Initialize LabelEncoder\n",
    "label_encoder = LabelEncoder()\n",
    "\n",
    "# Encode 'Sex' column\n",
    "df['Sex'] = label_encoder.fit_transform(df['Sex'])\n",
    "\n",
    "# One-hot encode the 'Embarked' column\n",
    "df = pd.get_dummies(df, columns=['Embarked'], drop_first=True)"
   ]
  },
  {
   "cell_type": "code",
   "execution_count": 15,
   "id": "8cbaa9aa-2bca-4956-8f84-9a814b2e15cc",
   "metadata": {},
   "outputs": [
    {
     "data": {
      "text/html": [
       "<div>\n",
       "<style scoped>\n",
       "    .dataframe tbody tr th:only-of-type {\n",
       "        vertical-align: middle;\n",
       "    }\n",
       "\n",
       "    .dataframe tbody tr th {\n",
       "        vertical-align: top;\n",
       "    }\n",
       "\n",
       "    .dataframe thead th {\n",
       "        text-align: right;\n",
       "    }\n",
       "</style>\n",
       "<table border=\"1\" class=\"dataframe\">\n",
       "  <thead>\n",
       "    <tr style=\"text-align: right;\">\n",
       "      <th></th>\n",
       "      <th>Survived</th>\n",
       "      <th>Pclass</th>\n",
       "      <th>Sex</th>\n",
       "      <th>Age</th>\n",
       "      <th>SibSp</th>\n",
       "      <th>Parch</th>\n",
       "      <th>Fare</th>\n",
       "      <th>Embarked_Q</th>\n",
       "      <th>Embarked_S</th>\n",
       "    </tr>\n",
       "  </thead>\n",
       "  <tbody>\n",
       "    <tr>\n",
       "      <th>0</th>\n",
       "      <td>0</td>\n",
       "      <td>3</td>\n",
       "      <td>1</td>\n",
       "      <td>22.0</td>\n",
       "      <td>1</td>\n",
       "      <td>0</td>\n",
       "      <td>7.2500</td>\n",
       "      <td>False</td>\n",
       "      <td>True</td>\n",
       "    </tr>\n",
       "    <tr>\n",
       "      <th>1</th>\n",
       "      <td>1</td>\n",
       "      <td>1</td>\n",
       "      <td>0</td>\n",
       "      <td>38.0</td>\n",
       "      <td>1</td>\n",
       "      <td>0</td>\n",
       "      <td>71.2833</td>\n",
       "      <td>False</td>\n",
       "      <td>False</td>\n",
       "    </tr>\n",
       "    <tr>\n",
       "      <th>2</th>\n",
       "      <td>1</td>\n",
       "      <td>3</td>\n",
       "      <td>0</td>\n",
       "      <td>26.0</td>\n",
       "      <td>0</td>\n",
       "      <td>0</td>\n",
       "      <td>7.9250</td>\n",
       "      <td>False</td>\n",
       "      <td>True</td>\n",
       "    </tr>\n",
       "    <tr>\n",
       "      <th>3</th>\n",
       "      <td>1</td>\n",
       "      <td>1</td>\n",
       "      <td>0</td>\n",
       "      <td>35.0</td>\n",
       "      <td>1</td>\n",
       "      <td>0</td>\n",
       "      <td>53.1000</td>\n",
       "      <td>False</td>\n",
       "      <td>True</td>\n",
       "    </tr>\n",
       "    <tr>\n",
       "      <th>4</th>\n",
       "      <td>0</td>\n",
       "      <td>3</td>\n",
       "      <td>1</td>\n",
       "      <td>35.0</td>\n",
       "      <td>0</td>\n",
       "      <td>0</td>\n",
       "      <td>8.0500</td>\n",
       "      <td>False</td>\n",
       "      <td>True</td>\n",
       "    </tr>\n",
       "  </tbody>\n",
       "</table>\n",
       "</div>"
      ],
      "text/plain": [
       "   Survived  Pclass  Sex   Age  SibSp  Parch     Fare  Embarked_Q  Embarked_S\n",
       "0         0       3    1  22.0      1      0   7.2500       False        True\n",
       "1         1       1    0  38.0      1      0  71.2833       False       False\n",
       "2         1       3    0  26.0      0      0   7.9250       False        True\n",
       "3         1       1    0  35.0      1      0  53.1000       False        True\n",
       "4         0       3    1  35.0      0      0   8.0500       False        True"
      ]
     },
     "execution_count": 15,
     "metadata": {},
     "output_type": "execute_result"
    }
   ],
   "source": [
    "df.head()"
   ]
  },
  {
   "cell_type": "code",
   "execution_count": 16,
   "id": "935caa98-0631-4d2f-89cb-d41d4ef0a6f5",
   "metadata": {},
   "outputs": [],
   "source": [
    "# Define features and target variable\n",
    "X = df.drop(columns=['Survived'])\n",
    "y = df['Survived']\n",
    "\n",
    "# Split the data into training and testing sets\n",
    "X_train, X_test, y_train, y_test = train_test_split(X, y, test_size=0.2, random_state=42)"
   ]
  },
  {
   "cell_type": "code",
   "execution_count": 17,
   "id": "b6be5cc4-a88e-40b0-a409-32d2dd0ef6da",
   "metadata": {},
   "outputs": [],
   "source": [
    "# Initialize StandardScaler\n",
    "scaler = StandardScaler()\n",
    "\n",
    "# Fit and transform the training data\n",
    "X_train_scaled = scaler.fit_transform(X_train)\n",
    "\n",
    "# Transform the test data\n",
    "X_test_scaled = scaler.transform(X_test)"
   ]
  },
  {
   "cell_type": "code",
   "execution_count": 18,
   "id": "3efb4a03-1026-42ca-bcad-09de2c300b12",
   "metadata": {},
   "outputs": [
    {
     "name": "stdout",
     "output_type": "stream",
     "text": [
      "Logistic Regression:\n",
      "Accuracy: 0.8100558659217877\n"
     ]
    }
   ],
   "source": [
    "# Initialize and train the Logistic Regression model\n",
    "log_reg = LogisticRegression(random_state=42)\n",
    "log_reg.fit(X_train_scaled, y_train)\n",
    "\n",
    "# Make predictions\n",
    "y_pred_log_reg = log_reg.predict(X_test_scaled)\n",
    "\n",
    "# Evaluate the Logistic Regression model\n",
    "print(\"Logistic Regression:\")\n",
    "print(\"Accuracy:\", accuracy_score(y_test, y_pred_log_reg))"
   ]
  },
  {
   "cell_type": "code",
   "execution_count": 19,
   "id": "772dbd8e-6a08-4d96-b790-d512b17aee81",
   "metadata": {},
   "outputs": [
    {
     "name": "stdout",
     "output_type": "stream",
     "text": [
      "Decision Tree:\n",
      "Accuracy: 0.7877094972067039\n"
     ]
    }
   ],
   "source": [
    "# Initialize and train the Decision Tree model\n",
    "decision_tree = DecisionTreeClassifier(random_state=42)\n",
    "decision_tree.fit(X_train_scaled, y_train)\n",
    "\n",
    "# Make predictions\n",
    "y_pred_decision_tree = decision_tree.predict(X_test_scaled)\n",
    "\n",
    "# Evaluate the Decision Tree model\n",
    "print(\"Decision Tree:\")\n",
    "print(\"Accuracy:\", accuracy_score(y_test, y_pred_decision_tree))"
   ]
  },
  {
   "cell_type": "markdown",
   "id": "3c39841a-95cc-4d68-8a33-a52a1af0adfd",
   "metadata": {},
   "source": [
    "1. Evaluating Logistic Regression with Cross-Validation"
   ]
  },
  {
   "cell_type": "markdown",
   "id": "05de5625-a8d2-442e-9f6d-e4050b69792b",
   "metadata": {},
   "source": [
    "Single train-test split"
   ]
  },
  {
   "cell_type": "code",
   "execution_count": 20,
   "id": "3888b6c0-1c7d-4a5d-87fe-c18e26ef37b9",
   "metadata": {},
   "outputs": [
    {
     "name": "stdout",
     "output_type": "stream",
     "text": [
      "Single train-test split:\n",
      "Accuracy: 0.8100558659217877\n"
     ]
    }
   ],
   "source": [
    "# Initialize and train the Logistic Regression model\n",
    "log_reg = LogisticRegression(random_state=42)\n",
    "log_reg.fit(X_train_scaled, y_train)\n",
    "\n",
    "# Make predictions\n",
    "y_pred_log_reg = log_reg.predict(X_test_scaled)\n",
    "\n",
    "# Evaluate the Logistic Regression model\n",
    "print(\"Single train-test split:\")\n",
    "print(\"Accuracy:\", accuracy_score(y_test, y_pred_log_reg))"
   ]
  },
  {
   "cell_type": "markdown",
   "id": "e3c31fa2-1d1e-4f15-a2c6-f459541694c4",
   "metadata": {},
   "source": [
    "K-fold cross-validation"
   ]
  },
  {
   "cell_type": "code",
   "execution_count": 21,
   "id": "128617bc-9a9a-427c-84e9-83074f7b9042",
   "metadata": {},
   "outputs": [
    {
     "name": "stdout",
     "output_type": "stream",
     "text": [
      "Cross-validation scores: [0.82517483 0.8041958  0.78873239 0.73943662 0.78873239]\n",
      "Mean cross-validation score: 0.7892544075642667\n"
     ]
    }
   ],
   "source": [
    "# Initialize Logistic Regression model\n",
    "log_reg = LogisticRegression(random_state=42)\n",
    "\n",
    "# Perform k-fold cross-validation\n",
    "cv_scores = cross_val_score(log_reg, X_train_scaled, y_train, cv=5, scoring='accuracy')\n",
    "\n",
    "# Print the cross-validation scores\n",
    "print(\"Cross-validation scores:\", cv_scores)\n",
    "print(\"Mean cross-validation score:\", np.mean(cv_scores))"
   ]
  },
  {
   "cell_type": "markdown",
   "id": "8db903fc-3045-45ae-bd31-73c1078502c9",
   "metadata": {},
   "source": [
    "2. Analyzing Overfitting and Underfitting in Decision Trees"
   ]
  },
  {
   "cell_type": "code",
   "execution_count": 22,
   "id": "e08a8497-a10c-47c6-80d7-c78e3477fe31",
   "metadata": {},
   "outputs": [],
   "source": [
    "# arrays to store accuracies\n",
    "train_accuracies = []\n",
    "validation_accuracies = []\n",
    "\n",
    "# range of depths to test\n",
    "depths = range(1, 21)\n",
    "\n",
    "for depth in depths:\n",
    "    # Initialize and train the Decision Tree model\n",
    "    decision_tree = DecisionTreeClassifier(max_depth=depth, random_state=42)\n",
    "    decision_tree.fit(X_train_scaled, y_train)\n",
    "    \n",
    "    # Evaluate on the training data\n",
    "    train_pred = decision_tree.predict(X_train_scaled)\n",
    "    train_accuracy = accuracy_score(y_train, train_pred)\n",
    "    train_accuracies.append(train_accuracy)\n",
    "    \n",
    "    # Evaluate on the validation data\n",
    "    validation_pred = decision_tree.predict(X_test_scaled)\n",
    "    validation_accuracy = accuracy_score(y_test, validation_pred)\n",
    "    validation_accuracies.append(validation_accuracy)"
   ]
  },
  {
   "cell_type": "code",
   "execution_count": 41,
   "id": "86883499-df36-41d5-b93b-49fb634489a2",
   "metadata": {},
   "outputs": [
    {
     "data": {
      "image/png": "[encoded data removed]",
      "text/plain": [
       "<Figure size 1000x600 with 1 Axes>"
      ]
     },
     "metadata": {},
     "output_type": "display_data"
    }
   ],
   "source": [
    "# Plot the training and validation accuracies\n",
    "plt.figure(figsize=(10, 6))\n",
    "plt.plot(depths, train_accuracies, label='Training Accuracy')\n",
    "plt.plot(depths, validation_accuracies, label='Validation Accuracy')\n",
    "plt.xlabel('Tree Depth')\n",
    "plt.ylabel('Accuracy')\n",
    "plt.title('Decision Tree Depth vs. Accuracy')\n",
    "plt.legend()\n",
    "plt.grid(True)\n",
    "plt.show()"
   ]
  },
  {
   "cell_type": "markdown",
   "id": "a941e573-2e75-49b8-9421-c3de902cb96b",
   "metadata": {},
   "source": [
    "3. Calculating Precision, Recall, and F1-Score for Logistic Regression"
   ]
  },
  {
   "cell_type": "code",
   "execution_count": 23,
   "id": "f87e435b-b3c5-4510-b0b1-a692f596a2a1",
   "metadata": {},
   "outputs": [
    {
     "name": "stdout",
     "output_type": "stream",
     "text": [
      "Precision: 0.7857\n",
      "Recall:0.7432\n",
      "F1-Score: 0.7639\n"
     ]
    }
   ],
   "source": [
    "# Calculate Precision\n",
    "precision = precision_score(y_test, y_pred_log_reg)\n",
    "\n",
    "# Calculate Recall\n",
    "recall = recall_score(y_test, y_pred_log_reg)\n",
    "\n",
    "# Calculate F1-Score\n",
    "f1 = f1_score(y_test, y_pred_log_reg)\n",
    "\n",
    "# Print the results\n",
    "print(f\"Precision: {precision:.4f}\")\n",
    "print(f\"Recall:{recall:.4f}\")\n",
    "print(f\"F1-Score: {f1:.4f}\")"
   ]
  },
  {
   "cell_type": "markdown",
   "id": "ea416ce5-7516-4120-abb4-833da690d71f",
   "metadata": {},
   "source": [
    "4. ROC Curve Analysis for Decision Trees"
   ]
  },
  {
   "cell_type": "code",
   "execution_count": 77,
   "id": "99c7422a-753d-43e8-9c70-ef0bef0dde7b",
   "metadata": {},
   "outputs": [],
   "source": [
    "# Train the Decision Tree classifier\n",
    "decision_tree = DecisionTreeClassifier(random_state=42)\n",
    "decision_tree.fit(X_train, y_train)\n",
    "\n",
    "# predicted probabilities for the positive class\n",
    "y_pred_proba = decision_tree.predict_proba(X_test)[:, 1]\n",
    "\n",
    "# Compute ROC curve and AUC\n",
    "fpr, tpr, thresholds = roc_curve(y_test, y_pred_proba)\n",
    "roc_auc = auc(fpr, tpr)"
   ]
  },
  {
   "cell_type": "code",
   "execution_count": 79,
   "id": "5561cc82-334f-44a1-9a16-955f16598806",
   "metadata": {},
   "outputs": [
    {
     "data": {
      "image/png": "[encoded data removed]",
      "text/plain": [
       "<Figure size 1000x600 with 1 Axes>"
      ]
     },
     "metadata": {},
     "output_type": "display_data"
    }
   ],
   "source": [
    "# Plot ROC curve\n",
    "plt.figure(figsize=(10, 6))\n",
    "plt.plot(fpr, tpr, label=f'AUC = {roc_auc:.2f}', color='red', lw=2)\n",
    "plt.plot([0, 1], [0, 1], 'k--', label='Random Guessing')\n",
    "plt.xlabel('False Positive Rate')\n",
    "plt.ylabel('True Positive Rate')\n",
    "plt.title('ROC Curve for Decision Tree')\n",
    "plt.legend(loc='lower right')\n",
    "plt.grid(True)\n",
    "plt.show()"
   ]
  },
  {
   "cell_type": "markdown",
   "id": "58933200-7722-4eb8-bd03-fdac3857017d",
   "metadata": {},
   "source": [
    "5. Comparing Model Performance with and without Cross-Validation"
   ]
  },
  {
   "cell_type": "markdown",
   "id": "a03cd826-3f78-4217-856a-0ab917fa9646",
   "metadata": {},
   "source": [
    "Logistic Regression without Cross-Validation"
   ]
  },
  {
   "cell_type": "code",
   "execution_count": 84,
   "id": "a9590f9c-f941-47a9-83df-08a830f25752",
   "metadata": {},
   "outputs": [
    {
     "name": "stdout",
     "output_type": "stream",
     "text": [
      "Logistic Regression without Cross-Validation:\n",
      "Accuracy: 0.8101\n",
      "Precision: 0.7857\n",
      "Recall: 0.7432\n"
     ]
    }
   ],
   "source": [
    "# Initialize Logistic Regression and Decision Tree models\n",
    "log_reg = LogisticRegression(random_state=42)\n",
    "decision_tree = DecisionTreeClassifier(random_state=42)\n",
    "\n",
    "# Train and evaluate Logistic Regression without Cross-Validation\n",
    "log_reg.fit(X_train_scaled, y_train)\n",
    "y_pred_log_reg = log_reg.predict(X_test_scaled)\n",
    "accuracy_log_reg = accuracy_score(y_test, y_pred_log_reg)\n",
    "precision_log_reg = precision_score(y_test, y_pred_log_reg)\n",
    "recall_log_reg = recall_score(y_test, y_pred_log_reg)\n",
    "\n",
    "print(\"Logistic Regression without Cross-Validation:\")\n",
    "print(f\"Accuracy: {accuracy_log_reg:.4f}\")\n",
    "print(f\"Precision: {precision_log_reg:.4f}\")\n",
    "print(f\"Recall: {recall_log_reg:.4f}\")"
   ]
  },
  {
   "cell_type": "markdown",
   "id": "7250ca6f-a7c0-42f4-8eb6-49972070fe61",
   "metadata": {},
   "source": [
    "Logistic Regression with Cross-Validation"
   ]
  },
  {
   "cell_type": "code",
   "execution_count": 86,
   "id": "d933b01e-0e30-4939-a278-498ebe4de9ee",
   "metadata": {},
   "outputs": [
    {
     "name": "stdout",
     "output_type": "stream",
     "text": [
      "\n",
      "Logistic Regression with Cross-Validation:\n",
      "Accuracy: 0.7893\n",
      "Precision: 0.7418\n",
      "Recall: 0.6751\n"
     ]
    }
   ],
   "source": [
    "# Logistic Regression with Cross-Validation\n",
    "accuracy_cv_log_reg = cross_val_score(log_reg, X_train_scaled, y_train, cv=5, scoring='accuracy').mean()\n",
    "precision_cv_log_reg = cross_val_score(log_reg, X_train_scaled, y_train, cv=5, scoring='precision').mean()\n",
    "recall_cv_log_reg = cross_val_score(log_reg, X_train_scaled, y_train, cv=5, scoring='recall').mean()\n",
    "\n",
    "print(\"\\nLogistic Regression with Cross-Validation:\")\n",
    "print(f\"Accuracy: {accuracy_cv_log_reg:.4f}\")\n",
    "print(f\"Precision: {precision_cv_log_reg:.4f}\")\n",
    "print(f\"Recall: {recall_cv_log_reg:.4f}\")"
   ]
  },
  {
   "cell_type": "markdown",
   "id": "3159a441-7210-478e-acc4-58113d913bf0",
   "metadata": {},
   "source": [
    "Decision Tree without Cross-Validation"
   ]
  },
  {
   "cell_type": "code",
   "execution_count": 85,
   "id": "da99353b-6485-4262-a769-b54238591b6d",
   "metadata": {},
   "outputs": [
    {
     "name": "stdout",
     "output_type": "stream",
     "text": [
      "\n",
      "Decision Tree without Cross-Validation:\n",
      "Accuracy: 0.7877\n",
      "Precision: 0.7432\n",
      "Recall: 0.7432\n"
     ]
    }
   ],
   "source": [
    "# Train and evaluate Decision Tree without Cross-Validation\n",
    "decision_tree.fit(X_train_scaled, y_train)\n",
    "y_pred_dt = decision_tree.predict(X_test_scaled)\n",
    "accuracy_dt = accuracy_score(y_test, y_pred_dt)\n",
    "precision_dt = precision_score(y_test, y_pred_dt)\n",
    "recall_dt = recall_score(y_test, y_pred_dt)\n",
    "\n",
    "print(\"\\nDecision Tree without Cross-Validation:\")\n",
    "print(f\"Accuracy: {accuracy_dt:.4f}\")\n",
    "print(f\"Precision: {precision_dt:.4f}\")\n",
    "print(f\"Recall: {recall_dt:.4f}\")"
   ]
  },
  {
   "cell_type": "markdown",
   "id": "f1399298-ffad-4def-810b-89d0c99e9a40",
   "metadata": {},
   "source": [
    "Decision Tree with Cross-Validation"
   ]
  },
  {
   "cell_type": "code",
   "execution_count": 87,
   "id": "78744523-3902-48b6-b3ea-6cdd9e782095",
   "metadata": {},
   "outputs": [
    {
     "name": "stdout",
     "output_type": "stream",
     "text": [
      "\n",
      "Decision Tree with Cross-Validation:\n",
      "Accuracy: 0.7529\n",
      "Precision: 0.6664\n",
      "Recall: 0.6941\n"
     ]
    }
   ],
   "source": [
    "# Decision Tree with Cross-Validation\n",
    "accuracy_cv_dt = cross_val_score(decision_tree, X_train_scaled, y_train, cv=5, scoring='accuracy').mean()\n",
    "precision_cv_dt = cross_val_score(decision_tree, X_train_scaled, y_train, cv=5, scoring='precision').mean()\n",
    "recall_cv_dt = cross_val_score(decision_tree, X_train_scaled, y_train, cv=5, scoring='recall').mean()\n",
    "\n",
    "print(\"\\nDecision Tree with Cross-Validation:\")\n",
    "print(f\"Accuracy: {accuracy_cv_dt:.4f}\")\n",
    "print(f\"Precision: {precision_cv_dt:.4f}\")\n",
    "print(f\"Recall: {recall_cv_dt:.4f}\")"
   ]
  },
  {
   "cell_type": "code",
   "execution_count": null,
   "id": "f819106a-dccd-4b03-a965-c9ea2c0f8ec1",
   "metadata": {},
   "outputs": [],
   "source": []
  }
 ],
 "metadata": {
  "kernelspec": {
   "display_name": "Python 3 (ipykernel)",
   "language": "python",
   "name": "python3"
  },
  "language_info": {
   "codemirror_mode": {
    "name": "ipython",
    "version": 3
   },
   "file_extension": ".py",
   "mimetype": "text/x-python",
   "name": "python",
   "nbconvert_exporter": "python",
   "pygments_lexer": "ipython3",
   "version": "3.11.7"
  }
 },
 "nbformat": 4,
 "nbformat_minor": 5
}
